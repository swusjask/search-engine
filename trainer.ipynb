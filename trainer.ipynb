{
 "cells": [
  {
   "cell_type": "markdown",
   "metadata": {
    "id": "yIpZ7JVdJFIE"
   },
   "source": [
    "# Information Retrieval - Programming Assignment 4 - Training Learning-to-Rank (Using Programming Assignment 3 by Muhammad Falensi Azmi)"
   ]
  },
  {
   "cell_type": "markdown",
   "metadata": {
    "id": "hPEfolu3F14q"
   },
   "source": [
    "# Setup"
   ]
  },
  {
   "cell_type": "code",
   "execution_count": 4,
   "metadata": {
    "colab": {
     "base_uri": "https://localhost:8080/"
    },
    "collapsed": true,
    "id": "HVUVmsmEGPDw",
    "outputId": "f92b7ede-3326-4736-c678-0c34616ace72"
   },
   "outputs": [
    {
     "name": "stderr",
     "output_type": "stream",
     "text": [
      "\n",
      "Usage:   \n",
      "  pip install [options] <requirement specifier> [package-index-options] ...\n",
      "  pip install [options] -r <requirements file> [package-index-options] ...\n",
      "  pip install [options] [-e] <vcs project url> ...\n",
      "  pip install [options] [-e] <local project path> ...\n",
      "  pip install [options] <archive url/path> ...\n",
      "\n",
      "no such option: -;\n",
      "\n",
      "Usage:   \n",
      "  pip install [options] <requirement specifier> [package-index-options] ...\n",
      "  pip install [options] -r <requirements file> [package-index-options] ...\n",
      "  pip install [options] [-e] <vcs project url> ...\n",
      "  pip install [options] [-e] <local project path> ...\n",
      "  pip install [options] <archive url/path> ...\n",
      "\n",
      "no such option: -;\n"
     ]
    },
    {
     "name": "stdout",
     "output_type": "stream",
     "text": [
      "Requirement already satisfied: datasets in c:\\users\\user\\appdata\\local\\programs\\python\\python311\\lib\\site-packages (3.2.0)\n",
      "Requirement already satisfied: filelock in c:\\users\\user\\appdata\\local\\programs\\python\\python311\\lib\\site-packages (from datasets) (3.16.1)\n",
      "Requirement already satisfied: numpy>=1.17 in c:\\users\\user\\appdata\\local\\programs\\python\\python311\\lib\\site-packages (from datasets) (2.1.3)\n",
      "Requirement already satisfied: pyarrow>=15.0.0 in c:\\users\\user\\appdata\\local\\programs\\python\\python311\\lib\\site-packages (from datasets) (18.1.0)\n",
      "Requirement already satisfied: dill<0.3.9,>=0.3.0 in c:\\users\\user\\appdata\\local\\programs\\python\\python311\\lib\\site-packages (from datasets) (0.3.8)\n",
      "Requirement already satisfied: pandas in c:\\users\\user\\appdata\\local\\programs\\python\\python311\\lib\\site-packages (from datasets) (2.2.3)\n",
      "Requirement already satisfied: requests>=2.32.2 in c:\\users\\user\\appdata\\local\\programs\\python\\python311\\lib\\site-packages (from datasets) (2.32.3)\n",
      "Requirement already satisfied: tqdm>=4.66.3 in c:\\users\\user\\appdata\\local\\programs\\python\\python311\\lib\\site-packages (from datasets) (4.67.1)\n",
      "Requirement already satisfied: xxhash in c:\\users\\user\\appdata\\local\\programs\\python\\python311\\lib\\site-packages (from datasets) (3.5.0)\n",
      "Requirement already satisfied: multiprocess<0.70.17 in c:\\users\\user\\appdata\\local\\programs\\python\\python311\\lib\\site-packages (from datasets) (0.70.16)\n",
      "Requirement already satisfied: fsspec<=2024.9.0,>=2023.1.0 in c:\\users\\user\\appdata\\local\\programs\\python\\python311\\lib\\site-packages (from fsspec[http]<=2024.9.0,>=2023.1.0->datasets) (2024.9.0)\n",
      "Requirement already satisfied: aiohttp in c:\\users\\user\\appdata\\local\\programs\\python\\python311\\lib\\site-packages (from datasets) (3.11.11)\n",
      "Requirement already satisfied: huggingface-hub>=0.23.0 in c:\\users\\user\\appdata\\local\\programs\\python\\python311\\lib\\site-packages (from datasets) (0.27.0)\n",
      "Requirement already satisfied: packaging in c:\\users\\user\\appdata\\local\\programs\\python\\python311\\lib\\site-packages (from datasets) (24.2)\n",
      "Requirement already satisfied: pyyaml>=5.1 in c:\\users\\user\\appdata\\local\\programs\\python\\python311\\lib\\site-packages (from datasets) (6.0.2)\n",
      "Requirement already satisfied: aiohappyeyeballs>=2.3.0 in c:\\users\\user\\appdata\\local\\programs\\python\\python311\\lib\\site-packages (from aiohttp->datasets) (2.4.4)\n",
      "Requirement already satisfied: aiosignal>=1.1.2 in c:\\users\\user\\appdata\\local\\programs\\python\\python311\\lib\\site-packages (from aiohttp->datasets) (1.3.2)\n",
      "Requirement already satisfied: attrs>=17.3.0 in c:\\users\\user\\appdata\\local\\programs\\python\\python311\\lib\\site-packages (from aiohttp->datasets) (24.3.0)\n",
      "Requirement already satisfied: frozenlist>=1.1.1 in c:\\users\\user\\appdata\\local\\programs\\python\\python311\\lib\\site-packages (from aiohttp->datasets) (1.5.0)\n",
      "Requirement already satisfied: multidict<7.0,>=4.5 in c:\\users\\user\\appdata\\local\\programs\\python\\python311\\lib\\site-packages (from aiohttp->datasets) (6.1.0)\n",
      "Requirement already satisfied: propcache>=0.2.0 in c:\\users\\user\\appdata\\local\\programs\\python\\python311\\lib\\site-packages (from aiohttp->datasets) (0.2.1)\n",
      "Requirement already satisfied: yarl<2.0,>=1.17.0 in c:\\users\\user\\appdata\\local\\programs\\python\\python311\\lib\\site-packages (from aiohttp->datasets) (1.18.3)\n",
      "Requirement already satisfied: typing-extensions>=3.7.4.3 in c:\\users\\user\\appdata\\local\\programs\\python\\python311\\lib\\site-packages (from huggingface-hub>=0.23.0->datasets) (4.12.2)\n",
      "Requirement already satisfied: charset-normalizer<4,>=2 in c:\\users\\user\\appdata\\local\\programs\\python\\python311\\lib\\site-packages (from requests>=2.32.2->datasets) (3.4.0)\n",
      "Requirement already satisfied: idna<4,>=2.5 in c:\\users\\user\\appdata\\local\\programs\\python\\python311\\lib\\site-packages (from requests>=2.32.2->datasets) (3.10)\n",
      "Requirement already satisfied: urllib3<3,>=1.21.1 in c:\\users\\user\\appdata\\local\\programs\\python\\python311\\lib\\site-packages (from requests>=2.32.2->datasets) (2.2.3)\n",
      "Requirement already satisfied: certifi>=2017.4.17 in c:\\users\\user\\appdata\\local\\programs\\python\\python311\\lib\\site-packages (from requests>=2.32.2->datasets) (2024.8.30)\n",
      "Requirement already satisfied: colorama in c:\\users\\user\\appdata\\local\\programs\\python\\python311\\lib\\site-packages (from tqdm>=4.66.3->datasets) (0.4.6)\n",
      "Requirement already satisfied: python-dateutil>=2.8.2 in c:\\users\\user\\appdata\\local\\programs\\python\\python311\\lib\\site-packages (from pandas->datasets) (2.9.0.post0)\n",
      "Requirement already satisfied: pytz>=2020.1 in c:\\users\\user\\appdata\\local\\programs\\python\\python311\\lib\\site-packages (from pandas->datasets) (2024.2)\n",
      "Requirement already satisfied: tzdata>=2022.7 in c:\\users\\user\\appdata\\local\\programs\\python\\python311\\lib\\site-packages (from pandas->datasets) (2024.2)\n",
      "Requirement already satisfied: six>=1.5 in c:\\users\\user\\appdata\\local\\programs\\python\\python311\\lib\\site-packages (from python-dateutil>=2.8.2->pandas->datasets) (1.16.0)\n"
     ]
    }
   ],
   "source": [
    "!pip install python-terrier -q;\n",
    "!pip install --upgrade git+https://github.com/terrierteam/pyterrier_t5.git -q;\n",
    "!pip install datasets;\n",
    "!pip install gdown;\n",
    "!pip install optuna"
   ]
  },
  {
   "cell_type": "code",
   "execution_count": 1,
   "metadata": {
    "colab": {
     "base_uri": "https://localhost:8080/"
    },
    "collapsed": true,
    "id": "KsEIvILKGVvE",
    "outputId": "8298157a-0d8a-4ed3-fac4-084e5316bcb2"
   },
   "outputs": [
    {
     "name": "stderr",
     "output_type": "stream",
     "text": [
      "c:\\Users\\User\\AppData\\Local\\Programs\\Python\\Python311\\Lib\\site-packages\\tqdm\\auto.py:21: TqdmWarning: IProgress not found. Please update jupyter and ipywidgets. See https://ipywidgets.readthedocs.io/en/stable/user_install.html\n",
      "  from .autonotebook import tqdm as notebook_tqdm\n",
      "Java started and loaded: pyterrier.java, pyterrier.terrier.java [version=5.10 (build: craigm 2024-08-22 17:33), helper_version=0.0.8]\n",
      "C:\\Users\\User\\AppData\\Local\\Temp\\ipykernel_3376\\929666325.py:10: DeprecationWarning: Call to deprecated method pt.init(). Deprecated since version 0.11.0.\n",
      "java is now started automatically with default settings. To force initialisation early, run:\n",
      "pt.java.init() # optional, forces java initialisation\n",
      "  pt.init()  # This initializes PyTerrier\n"
     ]
    }
   ],
   "source": [
    "import re\n",
    "import pyterrier as pt\n",
    "import pandas as pd\n",
    "import numpy as np\n",
    "\n",
    "from datasets import load_dataset\n",
    "from pyterrier.measures import *\n",
    "\n",
    "pt.init()  # This initializes PyTerrier\n",
    "\n",
    "import os\n",
    "import xgboost as xgb\n",
    "from sklearn.feature_extraction.text import TfidfVectorizer\n",
    "from sklearn.metrics.pairwise import cosine_similarity\n",
    "from sklearn.model_selection import ParameterGrid\n",
    "import pickle"
   ]
  },
  {
   "cell_type": "markdown",
   "metadata": {
    "id": "CilptuwdF-MN"
   },
   "source": [
    "# Data Preparation"
   ]
  },
  {
   "cell_type": "code",
   "execution_count": 2,
   "metadata": {
    "colab": {
     "base_uri": "https://localhost:8080/"
    },
    "id": "qRAPb3y5eKl5",
    "outputId": "5f41bd50-073c-40ca-d123-f9048b298fba"
   },
   "outputs": [
    {
     "data": {
      "text/plain": [
       "['.\\\\corpus.csv',\n",
       " '.\\\\dev.csv',\n",
       " '.\\\\queries.csv',\n",
       " '.\\\\test.csv',\n",
       " '.\\\\train.csv']"
      ]
     },
     "execution_count": 2,
     "metadata": {},
     "output_type": "execute_result"
    }
   ],
   "source": [
    "# Load dataset\n",
    "url = \"https://drive.google.com/drive/folders/12AiGXUUlduwVJJrSOYp4RvLWNS8_X_xH?usp=drive_link\"\n",
    "gdown.download_folder(url, output=\".\", quiet=True)"
   ]
  },
  {
   "cell_type": "code",
   "execution_count": 2,
   "metadata": {
    "collapsed": true,
    "id": "UdfITs8VgEzC"
   },
   "outputs": [],
   "source": [
    "collections = pd.read_csv(\"corpus.csv\")\n",
    "queries = pd.read_csv(\"queries.csv\")\n",
    "\n",
    "train_qrels = pd.read_csv(\"train.csv\")\n",
    "dev_qrels = pd.read_csv(\"dev.csv\")\n",
    "test_qrels = pd.read_csv(\"test.csv\")"
   ]
  },
  {
   "cell_type": "code",
   "execution_count": 3,
   "metadata": {
    "colab": {
     "base_uri": "https://localhost:8080/",
     "height": 206
    },
    "id": "DWhop23GLRlk",
    "outputId": "0e39c6f9-ef43-4ff7-922d-b54dbc832f17"
   },
   "outputs": [
    {
     "data": {
      "text/html": [
       "<div>\n",
       "<style scoped>\n",
       "    .dataframe tbody tr th:only-of-type {\n",
       "        vertical-align: middle;\n",
       "    }\n",
       "\n",
       "    .dataframe tbody tr th {\n",
       "        vertical-align: top;\n",
       "    }\n",
       "\n",
       "    .dataframe thead th {\n",
       "        text-align: right;\n",
       "    }\n",
       "</style>\n",
       "<table border=\"1\" class=\"dataframe\">\n",
       "  <thead>\n",
       "    <tr style=\"text-align: right;\">\n",
       "      <th></th>\n",
       "      <th>id</th>\n",
       "      <th>text</th>\n",
       "    </tr>\n",
       "  </thead>\n",
       "  <tbody>\n",
       "    <tr>\n",
       "      <th>0</th>\n",
       "      <td>49</td>\n",
       "      <td>Colorâurine can be a variety of colors, most...</td>\n",
       "    </tr>\n",
       "    <tr>\n",
       "      <th>1</th>\n",
       "      <td>12913</td>\n",
       "      <td>Rio de Janeiro: Annual Weather Averages. Febru...</td>\n",
       "    </tr>\n",
       "    <tr>\n",
       "      <th>2</th>\n",
       "      <td>14964</td>\n",
       "      <td>The judiciary (also known as the judicial syst...</td>\n",
       "    </tr>\n",
       "    <tr>\n",
       "      <th>3</th>\n",
       "      <td>17272</td>\n",
       "      <td>Painless swelling of the feet and ankles is a ...</td>\n",
       "    </tr>\n",
       "    <tr>\n",
       "      <th>4</th>\n",
       "      <td>18352</td>\n",
       "      <td>Later that day, the National Hurricane Center ...</td>\n",
       "    </tr>\n",
       "  </tbody>\n",
       "</table>\n",
       "</div>"
      ],
      "text/plain": [
       "      id                                               text\n",
       "0     49  Colorâurine can be a variety of colors, most...\n",
       "1  12913  Rio de Janeiro: Annual Weather Averages. Febru...\n",
       "2  14964  The judiciary (also known as the judicial syst...\n",
       "3  17272  Painless swelling of the feet and ankles is a ...\n",
       "4  18352  Later that day, the National Hurricane Center ..."
      ]
     },
     "execution_count": 3,
     "metadata": {},
     "output_type": "execute_result"
    }
   ],
   "source": [
    "collections.head()"
   ]
  },
  {
   "cell_type": "code",
   "execution_count": 4,
   "metadata": {
    "colab": {
     "base_uri": "https://localhost:8080/",
     "height": 206
    },
    "id": "LBSKPzpeLUUQ",
    "outputId": "1abcfc3b-10c5-439f-9d95-acd62b5fbdf3"
   },
   "outputs": [
    {
     "data": {
      "text/html": [
       "<div>\n",
       "<style scoped>\n",
       "    .dataframe tbody tr th:only-of-type {\n",
       "        vertical-align: middle;\n",
       "    }\n",
       "\n",
       "    .dataframe tbody tr th {\n",
       "        vertical-align: top;\n",
       "    }\n",
       "\n",
       "    .dataframe thead th {\n",
       "        text-align: right;\n",
       "    }\n",
       "</style>\n",
       "<table border=\"1\" class=\"dataframe\">\n",
       "  <thead>\n",
       "    <tr style=\"text-align: right;\">\n",
       "      <th></th>\n",
       "      <th>id</th>\n",
       "      <th>text</th>\n",
       "    </tr>\n",
       "  </thead>\n",
       "  <tbody>\n",
       "    <tr>\n",
       "      <th>0</th>\n",
       "      <td>597651</td>\n",
       "      <td>what color is amber urine</td>\n",
       "    </tr>\n",
       "    <tr>\n",
       "      <th>1</th>\n",
       "      <td>88585</td>\n",
       "      <td>causes of swollen ankles and feet</td>\n",
       "    </tr>\n",
       "    <tr>\n",
       "      <th>2</th>\n",
       "      <td>508811</td>\n",
       "      <td>symptoms of strep throat for an adult</td>\n",
       "    </tr>\n",
       "    <tr>\n",
       "      <th>3</th>\n",
       "      <td>412886</td>\n",
       "      <td>is ilovemakonnen ovo</td>\n",
       "    </tr>\n",
       "    <tr>\n",
       "      <th>4</th>\n",
       "      <td>532152</td>\n",
       "      <td>uneven chest color</td>\n",
       "    </tr>\n",
       "  </tbody>\n",
       "</table>\n",
       "</div>"
      ],
      "text/plain": [
       "       id                                   text\n",
       "0  597651              what color is amber urine\n",
       "1   88585      causes of swollen ankles and feet\n",
       "2  508811  symptoms of strep throat for an adult\n",
       "3  412886                   is ilovemakonnen ovo\n",
       "4  532152                     uneven chest color"
      ]
     },
     "execution_count": 4,
     "metadata": {},
     "output_type": "execute_result"
    }
   ],
   "source": [
    "queries.head()"
   ]
  },
  {
   "cell_type": "code",
   "execution_count": 5,
   "metadata": {
    "colab": {
     "base_uri": "https://localhost:8080/",
     "height": 206
    },
    "id": "jqCv_PisLX5l",
    "outputId": "39c30e53-15c9-4dba-cf69-93b9a82f4916"
   },
   "outputs": [
    {
     "data": {
      "text/html": [
       "<div>\n",
       "<style scoped>\n",
       "    .dataframe tbody tr th:only-of-type {\n",
       "        vertical-align: middle;\n",
       "    }\n",
       "\n",
       "    .dataframe tbody tr th {\n",
       "        vertical-align: top;\n",
       "    }\n",
       "\n",
       "    .dataframe thead th {\n",
       "        text-align: right;\n",
       "    }\n",
       "</style>\n",
       "<table border=\"1\" class=\"dataframe\">\n",
       "  <thead>\n",
       "    <tr style=\"text-align: right;\">\n",
       "      <th></th>\n",
       "      <th>query-id</th>\n",
       "      <th>corpus-id</th>\n",
       "      <th>score</th>\n",
       "    </tr>\n",
       "  </thead>\n",
       "  <tbody>\n",
       "    <tr>\n",
       "      <th>0</th>\n",
       "      <td>597651</td>\n",
       "      <td>49</td>\n",
       "      <td>1</td>\n",
       "    </tr>\n",
       "    <tr>\n",
       "      <th>1</th>\n",
       "      <td>88585</td>\n",
       "      <td>17272</td>\n",
       "      <td>1</td>\n",
       "    </tr>\n",
       "    <tr>\n",
       "      <th>2</th>\n",
       "      <td>508811</td>\n",
       "      <td>28092</td>\n",
       "      <td>1</td>\n",
       "    </tr>\n",
       "    <tr>\n",
       "      <th>3</th>\n",
       "      <td>412886</td>\n",
       "      <td>56458</td>\n",
       "      <td>1</td>\n",
       "    </tr>\n",
       "    <tr>\n",
       "      <th>4</th>\n",
       "      <td>532152</td>\n",
       "      <td>73237</td>\n",
       "      <td>1</td>\n",
       "    </tr>\n",
       "  </tbody>\n",
       "</table>\n",
       "</div>"
      ],
      "text/plain": [
       "   query-id  corpus-id  score\n",
       "0    597651         49      1\n",
       "1     88585      17272      1\n",
       "2    508811      28092      1\n",
       "3    412886      56458      1\n",
       "4    532152      73237      1"
      ]
     },
     "execution_count": 5,
     "metadata": {},
     "output_type": "execute_result"
    }
   ],
   "source": [
    "train_qrels.head()"
   ]
  },
  {
   "cell_type": "markdown",
   "metadata": {
    "id": "A6hrMaVjNAc9"
   },
   "source": [
    "## ✋ TODO"
   ]
  },
  {
   "cell_type": "markdown",
   "metadata": {},
   "source": [
    "### Preprocessing 1: Change Column Name"
   ]
  },
  {
   "cell_type": "code",
   "execution_count": 6,
   "metadata": {
    "id": "8eRxHSkTI6Ze"
   },
   "outputs": [
    {
     "data": {
      "text/html": [
       "<div>\n",
       "<style scoped>\n",
       "    .dataframe tbody tr th:only-of-type {\n",
       "        vertical-align: middle;\n",
       "    }\n",
       "\n",
       "    .dataframe tbody tr th {\n",
       "        vertical-align: top;\n",
       "    }\n",
       "\n",
       "    .dataframe thead th {\n",
       "        text-align: right;\n",
       "    }\n",
       "</style>\n",
       "<table border=\"1\" class=\"dataframe\">\n",
       "  <thead>\n",
       "    <tr style=\"text-align: right;\">\n",
       "      <th></th>\n",
       "      <th>docno</th>\n",
       "      <th>text</th>\n",
       "    </tr>\n",
       "  </thead>\n",
       "  <tbody>\n",
       "    <tr>\n",
       "      <th>0</th>\n",
       "      <td>49</td>\n",
       "      <td>Colorâurine can be a variety of colors, most...</td>\n",
       "    </tr>\n",
       "    <tr>\n",
       "      <th>1</th>\n",
       "      <td>12913</td>\n",
       "      <td>Rio de Janeiro: Annual Weather Averages. Febru...</td>\n",
       "    </tr>\n",
       "    <tr>\n",
       "      <th>2</th>\n",
       "      <td>14964</td>\n",
       "      <td>The judiciary (also known as the judicial syst...</td>\n",
       "    </tr>\n",
       "    <tr>\n",
       "      <th>3</th>\n",
       "      <td>17272</td>\n",
       "      <td>Painless swelling of the feet and ankles is a ...</td>\n",
       "    </tr>\n",
       "    <tr>\n",
       "      <th>4</th>\n",
       "      <td>18352</td>\n",
       "      <td>Later that day, the National Hurricane Center ...</td>\n",
       "    </tr>\n",
       "  </tbody>\n",
       "</table>\n",
       "</div>"
      ],
      "text/plain": [
       "   docno                                               text\n",
       "0     49  Colorâurine can be a variety of colors, most...\n",
       "1  12913  Rio de Janeiro: Annual Weather Averages. Febru...\n",
       "2  14964  The judiciary (also known as the judicial syst...\n",
       "3  17272  Painless swelling of the feet and ankles is a ...\n",
       "4  18352  Later that day, the National Hurricane Center ..."
      ]
     },
     "execution_count": 6,
     "metadata": {},
     "output_type": "execute_result"
    }
   ],
   "source": [
    "# TODO: preprocess data according to needs\n",
    "collections = collections.rename(columns={'id':'docno'})\n",
    "collections.head()"
   ]
  },
  {
   "cell_type": "code",
   "execution_count": 7,
   "metadata": {},
   "outputs": [
    {
     "data": {
      "text/html": [
       "<div>\n",
       "<style scoped>\n",
       "    .dataframe tbody tr th:only-of-type {\n",
       "        vertical-align: middle;\n",
       "    }\n",
       "\n",
       "    .dataframe tbody tr th {\n",
       "        vertical-align: top;\n",
       "    }\n",
       "\n",
       "    .dataframe thead th {\n",
       "        text-align: right;\n",
       "    }\n",
       "</style>\n",
       "<table border=\"1\" class=\"dataframe\">\n",
       "  <thead>\n",
       "    <tr style=\"text-align: right;\">\n",
       "      <th></th>\n",
       "      <th>qid</th>\n",
       "      <th>query</th>\n",
       "    </tr>\n",
       "  </thead>\n",
       "  <tbody>\n",
       "    <tr>\n",
       "      <th>0</th>\n",
       "      <td>597651</td>\n",
       "      <td>what color is amber urine</td>\n",
       "    </tr>\n",
       "    <tr>\n",
       "      <th>1</th>\n",
       "      <td>88585</td>\n",
       "      <td>causes of swollen ankles and feet</td>\n",
       "    </tr>\n",
       "    <tr>\n",
       "      <th>2</th>\n",
       "      <td>508811</td>\n",
       "      <td>symptoms of strep throat for an adult</td>\n",
       "    </tr>\n",
       "    <tr>\n",
       "      <th>3</th>\n",
       "      <td>412886</td>\n",
       "      <td>is ilovemakonnen ovo</td>\n",
       "    </tr>\n",
       "    <tr>\n",
       "      <th>4</th>\n",
       "      <td>532152</td>\n",
       "      <td>uneven chest color</td>\n",
       "    </tr>\n",
       "  </tbody>\n",
       "</table>\n",
       "</div>"
      ],
      "text/plain": [
       "      qid                                  query\n",
       "0  597651              what color is amber urine\n",
       "1   88585      causes of swollen ankles and feet\n",
       "2  508811  symptoms of strep throat for an adult\n",
       "3  412886                   is ilovemakonnen ovo\n",
       "4  532152                     uneven chest color"
      ]
     },
     "execution_count": 7,
     "metadata": {},
     "output_type": "execute_result"
    }
   ],
   "source": [
    "queries = queries.rename(columns={'id':'qid', 'text':'query'})\n",
    "queries.head()"
   ]
  },
  {
   "cell_type": "code",
   "execution_count": 8,
   "metadata": {},
   "outputs": [
    {
     "data": {
      "text/html": [
       "<div>\n",
       "<style scoped>\n",
       "    .dataframe tbody tr th:only-of-type {\n",
       "        vertical-align: middle;\n",
       "    }\n",
       "\n",
       "    .dataframe tbody tr th {\n",
       "        vertical-align: top;\n",
       "    }\n",
       "\n",
       "    .dataframe thead th {\n",
       "        text-align: right;\n",
       "    }\n",
       "</style>\n",
       "<table border=\"1\" class=\"dataframe\">\n",
       "  <thead>\n",
       "    <tr style=\"text-align: right;\">\n",
       "      <th></th>\n",
       "      <th>qid</th>\n",
       "      <th>docno</th>\n",
       "      <th>label</th>\n",
       "    </tr>\n",
       "  </thead>\n",
       "  <tbody>\n",
       "    <tr>\n",
       "      <th>0</th>\n",
       "      <td>597651</td>\n",
       "      <td>49</td>\n",
       "      <td>1</td>\n",
       "    </tr>\n",
       "    <tr>\n",
       "      <th>1</th>\n",
       "      <td>88585</td>\n",
       "      <td>17272</td>\n",
       "      <td>1</td>\n",
       "    </tr>\n",
       "    <tr>\n",
       "      <th>2</th>\n",
       "      <td>508811</td>\n",
       "      <td>28092</td>\n",
       "      <td>1</td>\n",
       "    </tr>\n",
       "    <tr>\n",
       "      <th>3</th>\n",
       "      <td>412886</td>\n",
       "      <td>56458</td>\n",
       "      <td>1</td>\n",
       "    </tr>\n",
       "    <tr>\n",
       "      <th>4</th>\n",
       "      <td>532152</td>\n",
       "      <td>73237</td>\n",
       "      <td>1</td>\n",
       "    </tr>\n",
       "  </tbody>\n",
       "</table>\n",
       "</div>"
      ],
      "text/plain": [
       "      qid  docno  label\n",
       "0  597651     49      1\n",
       "1   88585  17272      1\n",
       "2  508811  28092      1\n",
       "3  412886  56458      1\n",
       "4  532152  73237      1"
      ]
     },
     "execution_count": 8,
     "metadata": {},
     "output_type": "execute_result"
    }
   ],
   "source": [
    "train_qrels = train_qrels.rename(columns={'query-id':'qid', 'corpus-id':'docno', 'score':'label'})\n",
    "train_qrels.head()"
   ]
  },
  {
   "cell_type": "code",
   "execution_count": 9,
   "metadata": {},
   "outputs": [
    {
     "data": {
      "text/html": [
       "<div>\n",
       "<style scoped>\n",
       "    .dataframe tbody tr th:only-of-type {\n",
       "        vertical-align: middle;\n",
       "    }\n",
       "\n",
       "    .dataframe tbody tr th {\n",
       "        vertical-align: top;\n",
       "    }\n",
       "\n",
       "    .dataframe thead th {\n",
       "        text-align: right;\n",
       "    }\n",
       "</style>\n",
       "<table border=\"1\" class=\"dataframe\">\n",
       "  <thead>\n",
       "    <tr style=\"text-align: right;\">\n",
       "      <th></th>\n",
       "      <th>qid</th>\n",
       "      <th>docno</th>\n",
       "      <th>label</th>\n",
       "    </tr>\n",
       "  </thead>\n",
       "  <tbody>\n",
       "    <tr>\n",
       "      <th>0</th>\n",
       "      <td>174249</td>\n",
       "      <td>7067348</td>\n",
       "      <td>1</td>\n",
       "    </tr>\n",
       "    <tr>\n",
       "      <th>1</th>\n",
       "      <td>87892</td>\n",
       "      <td>7069601</td>\n",
       "      <td>1</td>\n",
       "    </tr>\n",
       "    <tr>\n",
       "      <th>2</th>\n",
       "      <td>264827</td>\n",
       "      <td>7071066</td>\n",
       "      <td>1</td>\n",
       "    </tr>\n",
       "    <tr>\n",
       "      <th>3</th>\n",
       "      <td>206117</td>\n",
       "      <td>7072160</td>\n",
       "      <td>1</td>\n",
       "    </tr>\n",
       "    <tr>\n",
       "      <th>4</th>\n",
       "      <td>196232</td>\n",
       "      <td>7072326</td>\n",
       "      <td>1</td>\n",
       "    </tr>\n",
       "  </tbody>\n",
       "</table>\n",
       "</div>"
      ],
      "text/plain": [
       "      qid    docno  label\n",
       "0  174249  7067348      1\n",
       "1   87892  7069601      1\n",
       "2  264827  7071066      1\n",
       "3  206117  7072160      1\n",
       "4  196232  7072326      1"
      ]
     },
     "execution_count": 9,
     "metadata": {},
     "output_type": "execute_result"
    }
   ],
   "source": [
    "dev_qrels = dev_qrels.rename(columns={'query-id':'qid', 'corpus-id':'docno', 'score':'label'})\n",
    "dev_qrels.head()"
   ]
  },
  {
   "cell_type": "code",
   "execution_count": 10,
   "metadata": {},
   "outputs": [
    {
     "data": {
      "text/html": [
       "<div>\n",
       "<style scoped>\n",
       "    .dataframe tbody tr th:only-of-type {\n",
       "        vertical-align: middle;\n",
       "    }\n",
       "\n",
       "    .dataframe tbody tr th {\n",
       "        vertical-align: top;\n",
       "    }\n",
       "\n",
       "    .dataframe thead th {\n",
       "        text-align: right;\n",
       "    }\n",
       "</style>\n",
       "<table border=\"1\" class=\"dataframe\">\n",
       "  <thead>\n",
       "    <tr style=\"text-align: right;\">\n",
       "      <th></th>\n",
       "      <th>qid</th>\n",
       "      <th>docno</th>\n",
       "      <th>label</th>\n",
       "    </tr>\n",
       "  </thead>\n",
       "  <tbody>\n",
       "    <tr>\n",
       "      <th>0</th>\n",
       "      <td>19335</td>\n",
       "      <td>1720387</td>\n",
       "      <td>0</td>\n",
       "    </tr>\n",
       "    <tr>\n",
       "      <th>1</th>\n",
       "      <td>19335</td>\n",
       "      <td>1871222</td>\n",
       "      <td>0</td>\n",
       "    </tr>\n",
       "    <tr>\n",
       "      <th>2</th>\n",
       "      <td>19335</td>\n",
       "      <td>1958102</td>\n",
       "      <td>0</td>\n",
       "    </tr>\n",
       "    <tr>\n",
       "      <th>3</th>\n",
       "      <td>19335</td>\n",
       "      <td>2046505</td>\n",
       "      <td>1</td>\n",
       "    </tr>\n",
       "    <tr>\n",
       "      <th>4</th>\n",
       "      <td>19335</td>\n",
       "      <td>2186129</td>\n",
       "      <td>0</td>\n",
       "    </tr>\n",
       "  </tbody>\n",
       "</table>\n",
       "</div>"
      ],
      "text/plain": [
       "     qid    docno  label\n",
       "0  19335  1720387      0\n",
       "1  19335  1871222      0\n",
       "2  19335  1958102      0\n",
       "3  19335  2046505      1\n",
       "4  19335  2186129      0"
      ]
     },
     "execution_count": 10,
     "metadata": {},
     "output_type": "execute_result"
    }
   ],
   "source": [
    "test_qrels = test_qrels.rename(columns={'query-id':'qid', 'corpus-id':'docno', 'score':'label'})\n",
    "test_qrels.head()"
   ]
  },
  {
   "cell_type": "markdown",
   "metadata": {},
   "source": [
    "### Preprocessing 2: convert label to binary"
   ]
  },
  {
   "cell_type": "code",
   "execution_count": 11,
   "metadata": {},
   "outputs": [],
   "source": [
    "train_qrels.loc[train_qrels['label'] > 1, 'label'] = 1\n",
    "dev_qrels.loc[dev_qrels['label'] > 1, 'label'] = 1\n",
    "test_qrels.loc[test_qrels['label'] > 1, 'label'] = 1"
   ]
  },
  {
   "cell_type": "code",
   "execution_count": 12,
   "metadata": {},
   "outputs": [
    {
     "name": "stdout",
     "output_type": "stream",
     "text": [
      "label\n",
      "1    5535\n",
      "Name: count, dtype: int64\n",
      "label\n",
      "1    1005\n",
      "Name: count, dtype: int64\n",
      "label\n",
      "0    566\n",
      "1    470\n",
      "Name: count, dtype: int64\n"
     ]
    }
   ],
   "source": [
    "print(train_qrels['label'].value_counts())\n",
    "print(dev_qrels['label'].value_counts())\n",
    "print(test_qrels['label'].value_counts())"
   ]
  },
  {
   "cell_type": "markdown",
   "metadata": {},
   "source": [
    "### Preprocessing 3: remove nonalphanumerics and lowercasting"
   ]
  },
  {
   "cell_type": "code",
   "execution_count": 13,
   "metadata": {
    "id": "6RABpl9kH5Rz"
   },
   "outputs": [],
   "source": [
    "def remove_nonalphanum(text):\n",
    "  pattern = re.compile('[\\W_]+')\n",
    "  return pattern.sub(' ', text)\n",
    "\n",
    "def lowercast(text):\n",
    "  return text.lower()"
   ]
  },
  {
   "cell_type": "code",
   "execution_count": 14,
   "metadata": {},
   "outputs": [
    {
     "data": {
      "text/html": [
       "<div>\n",
       "<style scoped>\n",
       "    .dataframe tbody tr th:only-of-type {\n",
       "        vertical-align: middle;\n",
       "    }\n",
       "\n",
       "    .dataframe tbody tr th {\n",
       "        vertical-align: top;\n",
       "    }\n",
       "\n",
       "    .dataframe thead th {\n",
       "        text-align: right;\n",
       "    }\n",
       "</style>\n",
       "<table border=\"1\" class=\"dataframe\">\n",
       "  <thead>\n",
       "    <tr style=\"text-align: right;\">\n",
       "      <th></th>\n",
       "      <th>docno</th>\n",
       "      <th>text</th>\n",
       "    </tr>\n",
       "  </thead>\n",
       "  <tbody>\n",
       "    <tr>\n",
       "      <th>0</th>\n",
       "      <td>49</td>\n",
       "      <td>colorâ urine can be a variety of colors most o...</td>\n",
       "    </tr>\n",
       "    <tr>\n",
       "      <th>1</th>\n",
       "      <td>12913</td>\n",
       "      <td>rio de janeiro annual weather averages februar...</td>\n",
       "    </tr>\n",
       "    <tr>\n",
       "      <th>2</th>\n",
       "      <td>14964</td>\n",
       "      <td>the judiciary also known as the judicial syste...</td>\n",
       "    </tr>\n",
       "    <tr>\n",
       "      <th>3</th>\n",
       "      <td>17272</td>\n",
       "      <td>painless swelling of the feet and ankles is a ...</td>\n",
       "    </tr>\n",
       "    <tr>\n",
       "      <th>4</th>\n",
       "      <td>18352</td>\n",
       "      <td>later that day the national hurricane center n...</td>\n",
       "    </tr>\n",
       "  </tbody>\n",
       "</table>\n",
       "</div>"
      ],
      "text/plain": [
       "   docno                                               text\n",
       "0     49  colorâ urine can be a variety of colors most o...\n",
       "1  12913  rio de janeiro annual weather averages februar...\n",
       "2  14964  the judiciary also known as the judicial syste...\n",
       "3  17272  painless swelling of the feet and ankles is a ...\n",
       "4  18352  later that day the national hurricane center n..."
      ]
     },
     "execution_count": 14,
     "metadata": {},
     "output_type": "execute_result"
    }
   ],
   "source": [
    "collections['text'] = collections['text'].apply(remove_nonalphanum)\n",
    "collections['text'] = collections['text'].apply(lowercast)\n",
    "collections.head()"
   ]
  },
  {
   "cell_type": "code",
   "execution_count": 15,
   "metadata": {},
   "outputs": [
    {
     "data": {
      "text/html": [
       "<div>\n",
       "<style scoped>\n",
       "    .dataframe tbody tr th:only-of-type {\n",
       "        vertical-align: middle;\n",
       "    }\n",
       "\n",
       "    .dataframe tbody tr th {\n",
       "        vertical-align: top;\n",
       "    }\n",
       "\n",
       "    .dataframe thead th {\n",
       "        text-align: right;\n",
       "    }\n",
       "</style>\n",
       "<table border=\"1\" class=\"dataframe\">\n",
       "  <thead>\n",
       "    <tr style=\"text-align: right;\">\n",
       "      <th></th>\n",
       "      <th>qid</th>\n",
       "      <th>query</th>\n",
       "    </tr>\n",
       "  </thead>\n",
       "  <tbody>\n",
       "    <tr>\n",
       "      <th>0</th>\n",
       "      <td>597651</td>\n",
       "      <td>what color is amber urine</td>\n",
       "    </tr>\n",
       "    <tr>\n",
       "      <th>1</th>\n",
       "      <td>88585</td>\n",
       "      <td>causes of swollen ankles and feet</td>\n",
       "    </tr>\n",
       "    <tr>\n",
       "      <th>2</th>\n",
       "      <td>508811</td>\n",
       "      <td>symptoms of strep throat for an adult</td>\n",
       "    </tr>\n",
       "    <tr>\n",
       "      <th>3</th>\n",
       "      <td>412886</td>\n",
       "      <td>is ilovemakonnen ovo</td>\n",
       "    </tr>\n",
       "    <tr>\n",
       "      <th>4</th>\n",
       "      <td>532152</td>\n",
       "      <td>uneven chest color</td>\n",
       "    </tr>\n",
       "  </tbody>\n",
       "</table>\n",
       "</div>"
      ],
      "text/plain": [
       "      qid                                  query\n",
       "0  597651              what color is amber urine\n",
       "1   88585      causes of swollen ankles and feet\n",
       "2  508811  symptoms of strep throat for an adult\n",
       "3  412886                   is ilovemakonnen ovo\n",
       "4  532152                     uneven chest color"
      ]
     },
     "execution_count": 15,
     "metadata": {},
     "output_type": "execute_result"
    }
   ],
   "source": [
    "queries['query'] = queries['query'].apply(remove_nonalphanum)\n",
    "queries['query'] = queries['query'].apply(lowercast)\n",
    "queries.head()"
   ]
  },
  {
   "cell_type": "markdown",
   "metadata": {},
   "source": [
    "### Preprocessing 4: Convert docno and qid to string"
   ]
  },
  {
   "cell_type": "code",
   "execution_count": 16,
   "metadata": {},
   "outputs": [],
   "source": [
    "collections[\"docno\"] = collections[\"docno\"].astype(str)\n",
    "queries[\"qid\"] = queries[\"qid\"].astype(str)\n",
    "\n",
    "train_qrels[\"qid\"] = train_qrels[\"qid\"].astype(str)\n",
    "dev_qrels[\"qid\"] = dev_qrels[\"qid\"].astype(str)\n",
    "test_qrels[\"qid\"] = test_qrels[\"qid\"].astype(str)\n",
    "\n",
    "train_qrels[\"docno\"] = train_qrels[\"docno\"].astype(str)\n",
    "dev_qrels[\"docno\"] = dev_qrels[\"docno\"].astype(str)\n",
    "test_qrels[\"docno\"] = test_qrels[\"docno\"].astype(str)"
   ]
  },
  {
   "cell_type": "markdown",
   "metadata": {},
   "source": [
    "### Preprocessing 5: Stemming and Stopwords Removal (done in the `Indexing` code)"
   ]
  },
  {
   "cell_type": "markdown",
   "metadata": {},
   "source": [
    "### Preprocessing 6: Limit num of queries based on certain rule."
   ]
  },
  {
   "cell_type": "code",
   "execution_count": 17,
   "metadata": {},
   "outputs": [
    {
     "name": "stdout",
     "output_type": "stream",
     "text": [
      "(5535, 3)\n",
      "(1005, 3)\n",
      "(1036, 3)\n",
      "(6577, 2)\n"
     ]
    }
   ],
   "source": [
    "print(train_qrels.shape)\n",
    "print(dev_qrels.shape)\n",
    "print(test_qrels.shape)\n",
    "print(queries.shape)"
   ]
  },
  {
   "cell_type": "code",
   "execution_count": 18,
   "metadata": {},
   "outputs": [],
   "source": [
    "# Verify overlap between queries and qrels\n",
    "common_train_qids = set(queries['qid']) & set(train_qrels['qid'])\n",
    "common_val_qids = set(queries['qid']) & set(dev_qrels['qid'])\n",
    "common_test_qids = set(queries['qid']) & set(test_qrels['qid'])\n",
    "\n",
    "# # Filter queries to ensure overlap\n",
    "train_queries = queries[queries['qid'].isin(common_train_qids)]\n",
    "val_queries = queries[queries['qid'].isin(common_val_qids)]\n",
    "test_queries = queries[queries['qid'].isin(common_test_qids)]\n",
    "\n",
    "# Further sampling if needed for efficiency (NOT USED)\n",
    "train_sample = train_queries\n",
    "# .sample(n=min(4000, len(train_queries)), random_state=42)\n",
    "val_sample = val_queries\n",
    "# .sample(n=min(1000, len(val_queries)), random_state=42)\n",
    "test_sample = test_queries\n",
    "# .sample(n=min(250, len(test_queries)), random_state=42)"
   ]
  },
  {
   "cell_type": "code",
   "execution_count": 19,
   "metadata": {},
   "outputs": [
    {
     "name": "stdout",
     "output_type": "stream",
     "text": [
      "(5533, 2) (1001, 2) (43, 2)\n",
      "(5533, 2) (1001, 2) (43, 2)\n",
      "(5535, 3) (1005, 3) (1036, 3)\n"
     ]
    }
   ],
   "source": [
    "print(train_queries.shape, val_queries.shape, test_queries.shape)\n",
    "print(train_sample.shape, val_sample.shape, test_sample.shape)\n",
    "print(train_qrels.shape, dev_qrels.shape, test_qrels.shape)"
   ]
  },
  {
   "cell_type": "code",
   "execution_count": 20,
   "metadata": {},
   "outputs": [],
   "source": [
    "train_topics, dev_topics, test_topics = train_sample, val_sample, test_sample"
   ]
  },
  {
   "cell_type": "markdown",
   "metadata": {
    "id": "sHmLl6V9F5jH"
   },
   "source": [
    "# Indexing"
   ]
  },
  {
   "cell_type": "markdown",
   "metadata": {
    "id": "MovsA8Q6M-o9"
   },
   "source": [
    "## ✋ TODO"
   ]
  },
  {
   "cell_type": "code",
   "execution_count": 21,
   "metadata": {},
   "outputs": [],
   "source": [
    "index_dir = os.path.join(os.getcwd(), \"index\")"
   ]
  },
  {
   "cell_type": "code",
   "execution_count": 22,
   "metadata": {
    "id": "mj4VSYWmHCe6"
   },
   "outputs": [
    {
     "name": "stderr",
     "output_type": "stream",
     "text": [
      "C:\\Users\\User\\AppData\\Local\\Temp\\ipykernel_3376\\1839210181.py:3: DeprecationWarning: Call to deprecated class DFIndexer. (use pt.terrier.IterDictIndexer().index(dataframe.to_dict(orient='records')) instead) -- Deprecated since version 0.11.0.\n",
      "  pd_indexer = pt.terrier.DFIndexer(index_dir, \\\n",
      "  0%|          | 0/6992 [00:00<?, ?documents/s]"
     ]
    },
    {
     "name": "stderr",
     "output_type": "stream",
     "text": [
      "100%|██████████| 6992/6992 [00:06<00:00, 1087.71documents/s]\n"
     ]
    }
   ],
   "source": [
    "# TODO: adjust indexer\n",
    "\n",
    "pd_indexer = pt.terrier.DFIndexer(index_dir, \\\n",
    "                          type = pt.index.IndexingType.CLASSIC, \\\n",
    "                          tokeniser = pt.index.TerrierTokeniser('utf'), \\\n",
    "                          stemmer = pt.TerrierStemmer.porter, \\\n",
    "                          stopwords = pt.TerrierStopwords.terrier, \\\n",
    "                          blocks = True, \\\n",
    "                          verbose = True)\n",
    "\n",
    "index_ref = pd_indexer.index(collections[\"text\"], collections)"
   ]
  },
  {
   "cell_type": "code",
   "execution_count": 23,
   "metadata": {},
   "outputs": [],
   "source": [
    "index_ref = pt.IndexFactory.of(index_dir)"
   ]
  },
  {
   "cell_type": "markdown",
   "metadata": {
    "id": "GA294vBtGBEq"
   },
   "source": [
    "# Baseline"
   ]
  },
  {
   "cell_type": "code",
   "execution_count": 25,
   "metadata": {},
   "outputs": [],
   "source": [
    "# Set K=30 sebagai hasil akhir setelah re-rank (SERP)\n",
    "K = 30"
   ]
  },
  {
   "cell_type": "code",
   "execution_count": 28,
   "metadata": {
    "id": "8jyjJLFuIkkS"
   },
   "outputs": [],
   "source": [
    "bm25 = pt.terrier.Retriever(index_ref, wmodel = \"BM25\")"
   ]
  },
  {
   "cell_type": "code",
   "execution_count": 29,
   "metadata": {},
   "outputs": [
    {
     "name": "stderr",
     "output_type": "stream",
     "text": [
      "pt.Experiment: 100%|██████████| 1/1 [00:00<00:00,  1.24system/s]\n"
     ]
    }
   ],
   "source": [
    "experiment_raw_bm25_dir = os.path.join(os.getcwd(), \"result\")\n",
    "result = pt.Experiment(\n",
    "    [bm25 % K], # TOP K only to make it comparable\n",
    "    topics=test_topics,\n",
    "    qrels=test_qrels,\n",
    "    eval_metrics=[\"P_30\",\"map\",\"recip_rank\",\"ndcg\"],\n",
    "    names=[\"BM25\"],\n",
    "    save_dir=experiment_raw_bm25_dir,\n",
    "    save_mode='overwrite',\n",
    "    verbose=True,\n",
    ")"
   ]
  },
  {
   "cell_type": "code",
   "execution_count": 30,
   "metadata": {},
   "outputs": [
    {
     "data": {
      "text/html": [
       "<div>\n",
       "<style scoped>\n",
       "    .dataframe tbody tr th:only-of-type {\n",
       "        vertical-align: middle;\n",
       "    }\n",
       "\n",
       "    .dataframe tbody tr th {\n",
       "        vertical-align: top;\n",
       "    }\n",
       "\n",
       "    .dataframe thead th {\n",
       "        text-align: right;\n",
       "    }\n",
       "</style>\n",
       "<table border=\"1\" class=\"dataframe\">\n",
       "  <thead>\n",
       "    <tr style=\"text-align: right;\">\n",
       "      <th></th>\n",
       "      <th>name</th>\n",
       "      <th>P_30</th>\n",
       "      <th>map</th>\n",
       "      <th>recip_rank</th>\n",
       "      <th>ndcg</th>\n",
       "    </tr>\n",
       "  </thead>\n",
       "  <tbody>\n",
       "    <tr>\n",
       "      <th>0</th>\n",
       "      <td>BM25</td>\n",
       "      <td>0.270543</td>\n",
       "      <td>0.542489</td>\n",
       "      <td>0.723107</td>\n",
       "      <td>0.691632</td>\n",
       "    </tr>\n",
       "  </tbody>\n",
       "</table>\n",
       "</div>"
      ],
      "text/plain": [
       "   name      P_30       map  recip_rank      ndcg\n",
       "0  BM25  0.270543  0.542489    0.723107  0.691632"
      ]
     },
     "execution_count": 30,
     "metadata": {},
     "output_type": "execute_result"
    }
   ],
   "source": [
    "result"
   ]
  },
  {
   "cell_type": "markdown",
   "metadata": {
    "id": "RMMyvJH0GDda"
   },
   "source": [
    "# Re-rank"
   ]
  },
  {
   "cell_type": "markdown",
   "metadata": {
    "id": "OyhYBFQUIyjo"
   },
   "source": [
    "## Feature"
   ]
  },
  {
   "cell_type": "markdown",
   "metadata": {
    "id": "hi1r2TPvM7gz"
   },
   "source": [
    "### ✋ TODO"
   ]
  },
  {
   "cell_type": "code",
   "execution_count": 31,
   "metadata": {},
   "outputs": [],
   "source": [
    "# TODO: propose and implement features\n",
    "\n",
    "# Models (other than BM25)\n",
    "tfidf = pt.terrier.Retriever(index_ref, wmodel=\"TF_IDF\")\n",
    "pl2 = pt.terrier.Retriever(index_ref, wmodel=\"PL2\")\n",
    "bb2 = pt.terrier.Retriever(index_ref, wmodel=\"BB2\")\n",
    "\n",
    "tfidf_vectorizer = TfidfVectorizer()\n",
    "tfidf_vectorizer.fit(collections[\"text\"])\n",
    "\n",
    "def cosine_similarity_feature(doc, query):\n",
    "    doc_vector = tfidf_vectorizer.transform([doc])\n",
    "    query_vector = tfidf_vectorizer.transform([query])\n",
    "    return cosine_similarity(doc_vector, query_vector)[0][0]\n",
    "\n",
    "def length_ratio_feature(doc, query):\n",
    "    doc_length = len(doc.split())\n",
    "    query_length = len(query.split())\n",
    "    return doc_length / query_length if query_length > 0 else 0\n",
    "\n",
    "# generate feature\n",
    "def generate_features(doc, query):\n",
    "    features = [\n",
    "        cosine_similarity_feature(doc, query),\n",
    "        length_ratio_feature(doc, query)\n",
    "    ]\n",
    "    return np.array(features)\n",
    "\n",
    "features = pt.apply.doc_features(lambda row: generate_features(row[\"text\"], row[\"query\"]))"
   ]
  },
  {
   "cell_type": "code",
   "execution_count": 32,
   "metadata": {
    "id": "FHYYNtalKO_1"
   },
   "outputs": [],
   "source": [
    "# Get \"text\" column using `pt.text.get_text(index_ref, \"text\")`\n",
    "pipeline = bm25 >> pt.text.get_text(index_ref, \"text\") >> (features ** bm25 ** tfidf ** pl2 ** bb2)"
   ]
  },
  {
   "cell_type": "markdown",
   "metadata": {
    "id": "eUb_PKOyLpnQ"
   },
   "source": [
    "## Learning-to-Rank"
   ]
  },
  {
   "cell_type": "markdown",
   "metadata": {
    "id": "fHOlRt3bM3-P"
   },
   "source": [
    "### ✋ TODO"
   ]
  },
  {
   "cell_type": "code",
   "execution_count": 35,
   "metadata": {
    "id": "jHlY7jm1LXKG"
   },
   "outputs": [],
   "source": [
    "# TODO: perform hyperparameter tuning on the LambdaMART\n",
    "\n",
    "# Below hyperparameters are taken from the example on PyTerrier documentation:\n",
    "# https://pyterrier.readthedocs.io/en/latest/ltr.html#gradient-boosted-trees-lambdamart\n",
    "\n",
    "# XGBoost hyperparameters documentation:\n",
    "# https://xgboost.readthedocs.io/en/stable/parameter.html\n",
    "\n",
    "# test using base model\n",
    "lmart_model = xgb.sklearn.XGBRanker(objective = 'rank:ndcg',\n",
    "                                    max_depth = '3',\n",
    "                                    subsample = '0.6',\n",
    "                                    gamma = '1.0',\n",
    "                                    verbose = 1,\n",
    "                                    random_state = 42,\n",
    "                                    n_jobs=-1,\n",
    "                                    )"
   ]
  },
  {
   "cell_type": "code",
   "execution_count": 36,
   "metadata": {
    "id": "QtT5JYD5Lu8q"
   },
   "outputs": [
    {
     "name": "stderr",
     "output_type": "stream",
     "text": [
      "c:\\Users\\User\\AppData\\Local\\Programs\\Python\\Python311\\Lib\\site-packages\\xgboost\\core.py:158: UserWarning: [19:00:25] WARNING: C:\\buildkite-agent\\builds\\buildkite-windows-cpu-autoscaling-group-i-0c55ff5f71b100e98-1\\xgboost\\xgboost-ci-windows\\src\\learner.cc:740: \n",
      "Parameters: { \"verbose\" } are not used.\n",
      "\n",
      "  warnings.warn(smsg, UserWarning)\n"
     ]
    }
   ],
   "source": [
    "lmart_pipe = pipeline >> pt.ltr.apply_learned_model(lmart_model, form = \"ltr\")\n",
    "lmart_pipe.fit(\n",
    "    train_topics, \n",
    "    train_qrels, \n",
    "    dev_topics, \n",
    "    dev_qrels)"
   ]
  },
  {
   "cell_type": "code",
   "execution_count": 41,
   "metadata": {},
   "outputs": [],
   "source": [
    "with open('lmart_model.pkl', 'wb') as file:\n",
    "    pickle.dump(lmart_model, file)"
   ]
  },
  {
   "cell_type": "markdown",
   "metadata": {},
   "source": [
    "## Hyperparameter Tuning"
   ]
  },
  {
   "cell_type": "code",
   "execution_count": 82,
   "metadata": {},
   "outputs": [
    {
     "name": "stdout",
     "output_type": "stream",
     "text": [
      "Testing parameters: {'gamma': 0.5, 'max_depth': 3, 'subsample': 0.4}\n"
     ]
    },
    {
     "name": "stderr",
     "output_type": "stream",
     "text": [
      "c:\\Users\\User\\AppData\\Local\\Programs\\Python\\Python311\\Lib\\site-packages\\xgboost\\core.py:160: UserWarning: [05:33:38] WARNING: C:\\buildkite-agent\\builds\\buildkite-windows-cpu-autoscaling-group-i-0b3782d1791676daf-1\\xgboost\\xgboost-ci-windows\\src\\learner.cc:742: \n",
      "Parameters: { \"verbose\" } are not used.\n",
      "\n",
      "  warnings.warn(smsg, UserWarning)\n"
     ]
    },
    {
     "name": "stdout",
     "output_type": "stream",
     "text": [
      "Score: 0.8955371784223587. Best is 0.8955371784223587 with params {'gamma': 0.5, 'max_depth': 3, 'subsample': 0.4}\n",
      "time:6005\n",
      "Testing parameters: {'gamma': 0.5, 'max_depth': 3, 'subsample': 0.6}\n"
     ]
    },
    {
     "name": "stderr",
     "output_type": "stream",
     "text": [
      "c:\\Users\\User\\AppData\\Local\\Programs\\Python\\Python311\\Lib\\site-packages\\xgboost\\core.py:160: UserWarning: [07:14:05] WARNING: C:\\buildkite-agent\\builds\\buildkite-windows-cpu-autoscaling-group-i-0b3782d1791676daf-1\\xgboost\\xgboost-ci-windows\\src\\learner.cc:742: \n",
      "Parameters: { \"verbose\" } are not used.\n",
      "\n",
      "  warnings.warn(smsg, UserWarning)\n"
     ]
    },
    {
     "name": "stdout",
     "output_type": "stream",
     "text": [
      "Score: 0.8972169310694136. Best is 0.8972169310694136 with params {'gamma': 0.5, 'max_depth': 3, 'subsample': 0.6}\n",
      "time:12074\n",
      "Testing parameters: {'gamma': 1.0, 'max_depth': 3, 'subsample': 0.4}\n"
     ]
    },
    {
     "name": "stderr",
     "output_type": "stream",
     "text": [
      "c:\\Users\\User\\AppData\\Local\\Programs\\Python\\Python311\\Lib\\site-packages\\xgboost\\core.py:160: UserWarning: [08:58:11] WARNING: C:\\buildkite-agent\\builds\\buildkite-windows-cpu-autoscaling-group-i-0b3782d1791676daf-1\\xgboost\\xgboost-ci-windows\\src\\learner.cc:742: \n",
      "Parameters: { \"verbose\" } are not used.\n",
      "\n",
      "  warnings.warn(smsg, UserWarning)\n"
     ]
    },
    {
     "name": "stdout",
     "output_type": "stream",
     "text": [
      "Score: 0.8940310131488552. Best is 0.8972169310694136 with params {'gamma': 0.5, 'max_depth': 3, 'subsample': 0.6}\n",
      "time:18305\n",
      "Testing parameters: {'gamma': 1.0, 'max_depth': 3, 'subsample': 0.6}\n"
     ]
    },
    {
     "name": "stderr",
     "output_type": "stream",
     "text": [
      "c:\\Users\\User\\AppData\\Local\\Programs\\Python\\Python311\\Lib\\site-packages\\xgboost\\core.py:160: UserWarning: [10:38:55] WARNING: C:\\buildkite-agent\\builds\\buildkite-windows-cpu-autoscaling-group-i-0b3782d1791676daf-1\\xgboost\\xgboost-ci-windows\\src\\learner.cc:742: \n",
      "Parameters: { \"verbose\" } are not used.\n",
      "\n",
      "  warnings.warn(smsg, UserWarning)\n"
     ]
    },
    {
     "name": "stdout",
     "output_type": "stream",
     "text": [
      "Score: 0.8974502623816912. Best is 0.8974502623816912 with params {'gamma': 1.0, 'max_depth': 3, 'subsample': 0.6}\n",
      "time:24342\n"
     ]
    }
   ],
   "source": [
    "import time\n",
    "\n",
    "# Define the parameter grid for Grid Search\n",
    "param_grid = {\n",
    "    # Learning Parameters\n",
    "    'subsample' : [0.4, 0.6],\n",
    "    'gamma': [0.5, 1.0],\n",
    "    'max_depth': [3]\n",
    "}\n",
    "\n",
    "# Initialize variables to store the best model and score\n",
    "best_model = None\n",
    "best_score = -1\n",
    "best_params = None\n",
    "\n",
    "now = time.time()\n",
    "\n",
    "# Perform Grid Search\n",
    "for params in ParameterGrid(param_grid):\n",
    "    print(f\"Testing parameters: {params}\")\n",
    "    lmart_model = xgb.sklearn.XGBRanker(\n",
    "        objective='rank:ndcg',\n",
    "        random_state=42,\n",
    "        n_jobs=-1,\n",
    "        verbose=2,\n",
    "        device='cuda',\n",
    "        **params\n",
    "    )\n",
    "    lmart_pipe = pipeline >> pt.ltr.apply_learned_model(lmart_model, form=\"ltr\")\n",
    "    lmart_pipe.fit(train_topics, train_qrels, dev_topics, dev_qrels)\n",
    "    \n",
    "    # Evaluate on validation set\n",
    "    eval_results = pt.Experiment([lmart_pipe % K], dev_topics, dev_qrels, eval_metrics=[\"ndcg\"], names=[\"L2R\"])\n",
    "    score = eval_results[\"ndcg\"][0]\n",
    "    \n",
    "    # Update the best model if current is better\n",
    "    if score > best_score:\n",
    "        best_score = score\n",
    "        best_model = lmart_pipe\n",
    "        best_params = params\n",
    "\n",
    "    print(f\"Score: {score}. Best is {best_score} with params {best_params}\")\n",
    "    print(f\"time:{int(time.time()-now)}\")"
   ]
  },
  {
   "cell_type": "code",
   "execution_count": 125,
   "metadata": {},
   "outputs": [
    {
     "name": "stdout",
     "output_type": "stream",
     "text": [
      "{'gamma': 1.0, 'max_depth': 3, 'subsample': 0.6} 0.8974502623816912\n"
     ]
    }
   ],
   "source": [
    "print(best_params, best_score)"
   ]
  },
  {
   "cell_type": "markdown",
   "metadata": {},
   "source": [
    "### Optimization using Optuna (not used, sebagai dokumentasi saja)"
   ]
  },
  {
   "cell_type": "code",
   "execution_count": null,
   "metadata": {},
   "outputs": [
    {
     "name": "stderr",
     "output_type": "stream",
     "text": [
      "[I 2024-11-25 16:06:07,447] A new study created in memory with name: no-name-bf8aaefd-ddc4-48e8-9791-44e48c57b3bb\n",
      "c:\\Users\\User\\AppData\\Local\\Programs\\Python\\Python311\\Lib\\site-packages\\xgboost\\core.py:160: UserWarning: [16:10:45] WARNING: C:\\buildkite-agent\\builds\\buildkite-windows-cpu-autoscaling-group-i-0b3782d1791676daf-1\\xgboost\\xgboost-ci-windows\\src\\learner.cc:742: \n",
      "Parameters: { \"verbose\" } are not used.\n",
      "\n",
      "  warnings.warn(smsg, UserWarning)\n",
      "[I 2024-11-25 16:11:15,950] Trial 0 finished with value: 0.889780712576313 and parameters: {'gamma': 0.07529041863109562, 'max_depth': 3, 'subsample': 0.4866770297338993, 'colsample_bytree': 0.7678007085418099, 'lambda': 1.1341187803517139, 'alpha': 0.9390619151576209}. Best is trial 0 with value: 0.889780712576313.\n"
     ]
    },
    {
     "name": "stdout",
     "output_type": "stream",
     "text": [
      "time:308\n"
     ]
    },
    {
     "name": "stderr",
     "output_type": "stream",
     "text": [
      "c:\\Users\\User\\AppData\\Local\\Programs\\Python\\Python311\\Lib\\site-packages\\xgboost\\core.py:160: UserWarning: [16:15:43] WARNING: C:\\buildkite-agent\\builds\\buildkite-windows-cpu-autoscaling-group-i-0b3782d1791676daf-1\\xgboost\\xgboost-ci-windows\\src\\learner.cc:742: \n",
      "Parameters: { \"verbose\" } are not used.\n",
      "\n",
      "  warnings.warn(smsg, UserWarning)\n",
      "[I 2024-11-25 16:16:13,960] Trial 1 finished with value: 0.8820193322165437 and parameters: {'gamma': 0.09403365053682722, 'max_depth': 4, 'subsample': 0.597264458515771, 'colsample_bytree': 0.9397230791512087, 'lambda': 0.871818856218183, 'alpha': 0.8732424380900944}. Best is trial 0 with value: 0.889780712576313.\n"
     ]
    },
    {
     "name": "stdout",
     "output_type": "stream",
     "text": [
      "time:606\n"
     ]
    },
    {
     "name": "stderr",
     "output_type": "stream",
     "text": [
      "c:\\Users\\User\\AppData\\Local\\Programs\\Python\\Python311\\Lib\\site-packages\\xgboost\\core.py:160: UserWarning: [16:20:49] WARNING: C:\\buildkite-agent\\builds\\buildkite-windows-cpu-autoscaling-group-i-0b3782d1791676daf-1\\xgboost\\xgboost-ci-windows\\src\\learner.cc:742: \n",
      "Parameters: { \"verbose\" } are not used.\n",
      "\n",
      "  warnings.warn(smsg, UserWarning)\n",
      "[I 2024-11-25 16:21:20,039] Trial 2 finished with value: 0.8935956963698062 and parameters: {'gamma': 0.049541708381048245, 'max_depth': 3, 'subsample': 0.4124214980744642, 'colsample_bytree': 0.7282303118311557, 'lambda': 0.9619513230536485, 'alpha': 0.8791045324846161}. Best is trial 2 with value: 0.8935956963698062.\n"
     ]
    },
    {
     "name": "stdout",
     "output_type": "stream",
     "text": [
      "time:912\n"
     ]
    },
    {
     "name": "stderr",
     "output_type": "stream",
     "text": [
      "c:\\Users\\User\\AppData\\Local\\Programs\\Python\\Python311\\Lib\\site-packages\\xgboost\\core.py:160: UserWarning: [16:25:46] WARNING: C:\\buildkite-agent\\builds\\buildkite-windows-cpu-autoscaling-group-i-0b3782d1791676daf-1\\xgboost\\xgboost-ci-windows\\src\\learner.cc:742: \n",
      "Parameters: { \"verbose\" } are not used.\n",
      "\n",
      "  warnings.warn(smsg, UserWarning)\n",
      "[I 2024-11-25 16:26:16,253] Trial 3 finished with value: 0.8866147578461632 and parameters: {'gamma': 0.07865365681369148, 'max_depth': 4, 'subsample': 0.44050742224277745, 'colsample_bytree': 0.9691254490550283, 'lambda': 1.1794901640220679, 'alpha': 0.9849464661371194}. Best is trial 2 with value: 0.8935956963698062.\n"
     ]
    },
    {
     "name": "stdout",
     "output_type": "stream",
     "text": [
      "time:1208\n"
     ]
    },
    {
     "name": "stderr",
     "output_type": "stream",
     "text": [
      "c:\\Users\\User\\AppData\\Local\\Programs\\Python\\Python311\\Lib\\site-packages\\xgboost\\core.py:160: UserWarning: [16:30:39] WARNING: C:\\buildkite-agent\\builds\\buildkite-windows-cpu-autoscaling-group-i-0b3782d1791676daf-1\\xgboost\\xgboost-ci-windows\\src\\learner.cc:742: \n",
      "Parameters: { \"verbose\" } are not used.\n",
      "\n",
      "  warnings.warn(smsg, UserWarning)\n",
      "[I 2024-11-25 16:31:07,169] Trial 4 finished with value: 0.8889570876603313 and parameters: {'gamma': 0.020344988143679167, 'max_depth': 4, 'subsample': 0.544947979317269, 'colsample_bytree': 0.6406241300691647, 'lambda': 1.0936129964913663, 'alpha': 0.9852546185274311}. Best is trial 2 with value: 0.8935956963698062.\n"
     ]
    },
    {
     "name": "stdout",
     "output_type": "stream",
     "text": [
      "time:1499\n"
     ]
    },
    {
     "name": "stderr",
     "output_type": "stream",
     "text": [
      "c:\\Users\\User\\AppData\\Local\\Programs\\Python\\Python311\\Lib\\site-packages\\xgboost\\core.py:160: UserWarning: [16:35:30] WARNING: C:\\buildkite-agent\\builds\\buildkite-windows-cpu-autoscaling-group-i-0b3782d1791676daf-1\\xgboost\\xgboost-ci-windows\\src\\learner.cc:742: \n",
      "Parameters: { \"verbose\" } are not used.\n",
      "\n",
      "  warnings.warn(smsg, UserWarning)\n",
      "[I 2024-11-25 16:35:59,296] Trial 5 finished with value: 0.8922252107600407 and parameters: {'gamma': 0.01632279775023727, 'max_depth': 3, 'subsample': 0.45316271628925636, 'colsample_bytree': 0.9851365080533618, 'lambda': 1.11440248742133, 'alpha': 1.0567520346145156}. Best is trial 2 with value: 0.8935956963698062.\n"
     ]
    },
    {
     "name": "stdout",
     "output_type": "stream",
     "text": [
      "time:1791\n"
     ]
    },
    {
     "name": "stderr",
     "output_type": "stream",
     "text": [
      "c:\\Users\\User\\AppData\\Local\\Programs\\Python\\Python311\\Lib\\site-packages\\xgboost\\core.py:160: UserWarning: [16:40:21] WARNING: C:\\buildkite-agent\\builds\\buildkite-windows-cpu-autoscaling-group-i-0b3782d1791676daf-1\\xgboost\\xgboost-ci-windows\\src\\learner.cc:742: \n",
      "Parameters: { \"verbose\" } are not used.\n",
      "\n",
      "  warnings.warn(smsg, UserWarning)\n",
      "[I 2024-11-25 16:40:49,866] Trial 6 finished with value: 0.8849094653907387 and parameters: {'gamma': 0.03712498287714716, 'max_depth': 4, 'subsample': 0.5962411439263138, 'colsample_bytree': 0.8347482321090973, 'lambda': 1.162505011771501, 'alpha': 0.9057435422175167}. Best is trial 2 with value: 0.8935956963698062.\n"
     ]
    },
    {
     "name": "stdout",
     "output_type": "stream",
     "text": [
      "time:2082\n"
     ]
    },
    {
     "name": "stderr",
     "output_type": "stream",
     "text": [
      "c:\\Users\\User\\AppData\\Local\\Programs\\Python\\Python311\\Lib\\site-packages\\xgboost\\core.py:160: UserWarning: [16:45:13] WARNING: C:\\buildkite-agent\\builds\\buildkite-windows-cpu-autoscaling-group-i-0b3782d1791676daf-1\\xgboost\\xgboost-ci-windows\\src\\learner.cc:742: \n",
      "Parameters: { \"verbose\" } are not used.\n",
      "\n",
      "  warnings.warn(smsg, UserWarning)\n",
      "[I 2024-11-25 16:45:42,907] Trial 7 finished with value: 0.8864452087823471 and parameters: {'gamma': 0.08581980746355304, 'max_depth': 4, 'subsample': 0.5269663338218614, 'colsample_bytree': 0.9426105394610376, 'lambda': 0.8215180390776449, 'alpha': 1.098326847327272}. Best is trial 2 with value: 0.8935956963698062.\n"
     ]
    },
    {
     "name": "stdout",
     "output_type": "stream",
     "text": [
      "time:2375\n"
     ]
    },
    {
     "name": "stderr",
     "output_type": "stream",
     "text": [
      "c:\\Users\\User\\AppData\\Local\\Programs\\Python\\Python311\\Lib\\site-packages\\xgboost\\core.py:160: UserWarning: [16:50:10] WARNING: C:\\buildkite-agent\\builds\\buildkite-windows-cpu-autoscaling-group-i-0b3782d1791676daf-1\\xgboost\\xgboost-ci-windows\\src\\learner.cc:742: \n",
      "Parameters: { \"verbose\" } are not used.\n",
      "\n",
      "  warnings.warn(smsg, UserWarning)\n",
      "[I 2024-11-25 16:50:40,820] Trial 8 finished with value: 0.8846076586185964 and parameters: {'gamma': 0.09297975112852688, 'max_depth': 4, 'subsample': 0.42276644144205816, 'colsample_bytree': 0.6120014642252265, 'lambda': 1.159947145247931, 'alpha': 1.087328920062565}. Best is trial 2 with value: 0.8935956963698062.\n"
     ]
    },
    {
     "name": "stdout",
     "output_type": "stream",
     "text": [
      "time:2673\n"
     ]
    },
    {
     "name": "stderr",
     "output_type": "stream",
     "text": [
      "c:\\Users\\User\\AppData\\Local\\Programs\\Python\\Python311\\Lib\\site-packages\\xgboost\\core.py:160: UserWarning: [16:55:00] WARNING: C:\\buildkite-agent\\builds\\buildkite-windows-cpu-autoscaling-group-i-0b3782d1791676daf-1\\xgboost\\xgboost-ci-windows\\src\\learner.cc:742: \n",
      "Parameters: { \"verbose\" } are not used.\n",
      "\n",
      "  warnings.warn(smsg, UserWarning)\n",
      "[I 2024-11-25 16:55:25,191] Trial 9 finished with value: 0.8915596650735998 and parameters: {'gamma': 0.0867554482864213, 'max_depth': 3, 'subsample': 0.4474173280899536, 'colsample_bytree': 0.7461432783245354, 'lambda': 1.1101878796084512, 'alpha': 1.1237120404337118}. Best is trial 2 with value: 0.8935956963698062.\n"
     ]
    },
    {
     "name": "stdout",
     "output_type": "stream",
     "text": [
      "time:2957\n"
     ]
    },
    {
     "name": "stderr",
     "output_type": "stream",
     "text": [
      "c:\\Users\\User\\AppData\\Local\\Programs\\Python\\Python311\\Lib\\site-packages\\xgboost\\core.py:160: UserWarning: [16:59:27] WARNING: C:\\buildkite-agent\\builds\\buildkite-windows-cpu-autoscaling-group-i-0b3782d1791676daf-1\\xgboost\\xgboost-ci-windows\\src\\learner.cc:742: \n",
      "Parameters: { \"verbose\" } are not used.\n",
      "\n",
      "  warnings.warn(smsg, UserWarning)\n",
      "[I 2024-11-25 16:59:52,005] Trial 10 finished with value: 0.8924193457912137 and parameters: {'gamma': 0.053647007255654806, 'max_depth': 3, 'subsample': 0.40607344587121635, 'colsample_bytree': 0.6947765419046783, 'lambda': 0.9576375595777615, 'alpha': 0.8068726152131747}. Best is trial 2 with value: 0.8935956963698062.\n"
     ]
    },
    {
     "name": "stdout",
     "output_type": "stream",
     "text": [
      "time:3224\n"
     ]
    },
    {
     "name": "stderr",
     "output_type": "stream",
     "text": [
      "c:\\Users\\User\\AppData\\Local\\Programs\\Python\\Python311\\Lib\\site-packages\\xgboost\\core.py:160: UserWarning: [17:03:51] WARNING: C:\\buildkite-agent\\builds\\buildkite-windows-cpu-autoscaling-group-i-0b3782d1791676daf-1\\xgboost\\xgboost-ci-windows\\src\\learner.cc:742: \n",
      "Parameters: { \"verbose\" } are not used.\n",
      "\n",
      "  warnings.warn(smsg, UserWarning)\n",
      "[I 2024-11-25 17:04:16,227] Trial 11 finished with value: 0.8869823915094998 and parameters: {'gamma': 0.05503994650460371, 'max_depth': 3, 'subsample': 0.40177623745864816, 'colsample_bytree': 0.6941540164063025, 'lambda': 0.960632383162038, 'alpha': 0.8018267786510536}. Best is trial 2 with value: 0.8935956963698062.\n"
     ]
    },
    {
     "name": "stdout",
     "output_type": "stream",
     "text": [
      "time:3488\n"
     ]
    },
    {
     "name": "stderr",
     "output_type": "stream",
     "text": [
      "c:\\Users\\User\\AppData\\Local\\Programs\\Python\\Python311\\Lib\\site-packages\\xgboost\\core.py:160: UserWarning: [17:08:23] WARNING: C:\\buildkite-agent\\builds\\buildkite-windows-cpu-autoscaling-group-i-0b3782d1791676daf-1\\xgboost\\xgboost-ci-windows\\src\\learner.cc:742: \n",
      "Parameters: { \"verbose\" } are not used.\n",
      "\n",
      "  warnings.warn(smsg, UserWarning)\n",
      "[I 2024-11-25 17:08:49,326] Trial 12 finished with value: 0.8866475998589606 and parameters: {'gamma': 0.05375022409447587, 'max_depth': 3, 'subsample': 0.4006296247341979, 'colsample_bytree': 0.8440071606044135, 'lambda': 0.9814801506540765, 'alpha': 0.8113266891769177}. Best is trial 2 with value: 0.8935956963698062.\n"
     ]
    },
    {
     "name": "stdout",
     "output_type": "stream",
     "text": [
      "time:3761\n"
     ]
    },
    {
     "name": "stderr",
     "output_type": "stream",
     "text": [
      "c:\\Users\\User\\AppData\\Local\\Programs\\Python\\Python311\\Lib\\site-packages\\xgboost\\core.py:160: UserWarning: [17:13:06] WARNING: C:\\buildkite-agent\\builds\\buildkite-windows-cpu-autoscaling-group-i-0b3782d1791676daf-1\\xgboost\\xgboost-ci-windows\\src\\learner.cc:742: \n",
      "Parameters: { \"verbose\" } are not used.\n",
      "\n",
      "  warnings.warn(smsg, UserWarning)\n",
      "[I 2024-11-25 17:13:33,280] Trial 13 finished with value: 0.8915813097582519 and parameters: {'gamma': 0.03801461836421215, 'max_depth': 3, 'subsample': 0.4762234848777273, 'colsample_bytree': 0.699323208041726, 'lambda': 0.9229534499647616, 'alpha': 1.189978885441411}. Best is trial 2 with value: 0.8935956963698062.\n"
     ]
    },
    {
     "name": "stdout",
     "output_type": "stream",
     "text": [
      "time:4045\n"
     ]
    },
    {
     "name": "stderr",
     "output_type": "stream",
     "text": [
      "c:\\Users\\User\\AppData\\Local\\Programs\\Python\\Python311\\Lib\\site-packages\\xgboost\\core.py:160: UserWarning: [17:17:47] WARNING: C:\\buildkite-agent\\builds\\buildkite-windows-cpu-autoscaling-group-i-0b3782d1791676daf-1\\xgboost\\xgboost-ci-windows\\src\\learner.cc:742: \n",
      "Parameters: { \"verbose\" } are not used.\n",
      "\n",
      "  warnings.warn(smsg, UserWarning)\n",
      "[I 2024-11-25 17:18:15,264] Trial 14 finished with value: 0.8885820132869697 and parameters: {'gamma': 0.06780554057720853, 'max_depth': 3, 'subsample': 0.423627050407238, 'colsample_bytree': 0.6851635916041655, 'lambda': 1.0462248962233252, 'alpha': 0.8489094418606199}. Best is trial 2 with value: 0.8935956963698062.\n"
     ]
    },
    {
     "name": "stdout",
     "output_type": "stream",
     "text": [
      "time:4327\n"
     ]
    },
    {
     "name": "stderr",
     "output_type": "stream",
     "text": [
      "c:\\Users\\User\\AppData\\Local\\Programs\\Python\\Python311\\Lib\\site-packages\\xgboost\\core.py:160: UserWarning: [17:22:38] WARNING: C:\\buildkite-agent\\builds\\buildkite-windows-cpu-autoscaling-group-i-0b3782d1791676daf-1\\xgboost\\xgboost-ci-windows\\src\\learner.cc:742: \n",
      "Parameters: { \"verbose\" } are not used.\n",
      "\n",
      "  warnings.warn(smsg, UserWarning)\n",
      "[I 2024-11-25 17:23:06,016] Trial 15 finished with value: 0.8887165578891251 and parameters: {'gamma': 0.035686383321057384, 'max_depth': 3, 'subsample': 0.510071407682939, 'colsample_bytree': 0.7966469467661914, 'lambda': 1.0315771887548841, 'alpha': 0.912629319850099}. Best is trial 2 with value: 0.8935956963698062.\n"
     ]
    },
    {
     "name": "stdout",
     "output_type": "stream",
     "text": [
      "time:4618\n"
     ]
    },
    {
     "name": "stderr",
     "output_type": "stream",
     "text": [
      "c:\\Users\\User\\AppData\\Local\\Programs\\Python\\Python311\\Lib\\site-packages\\xgboost\\core.py:160: UserWarning: [17:27:21] WARNING: C:\\buildkite-agent\\builds\\buildkite-windows-cpu-autoscaling-group-i-0b3782d1791676daf-1\\xgboost\\xgboost-ci-windows\\src\\learner.cc:742: \n",
      "Parameters: { \"verbose\" } are not used.\n",
      "\n",
      "  warnings.warn(smsg, UserWarning)\n",
      "[I 2024-11-25 17:27:48,549] Trial 16 finished with value: 0.8916095983388908 and parameters: {'gamma': 0.06439227948740324, 'max_depth': 3, 'subsample': 0.46894893018666, 'colsample_bytree': 0.7323335859831831, 'lambda': 0.9174714990952891, 'alpha': 0.8619932646024123}. Best is trial 2 with value: 0.8935956963698062.\n"
     ]
    },
    {
     "name": "stdout",
     "output_type": "stream",
     "text": [
      "time:4901\n"
     ]
    },
    {
     "name": "stderr",
     "output_type": "stream",
     "text": [
      "c:\\Users\\User\\AppData\\Local\\Programs\\Python\\Python311\\Lib\\site-packages\\xgboost\\core.py:160: UserWarning: [17:32:00] WARNING: C:\\buildkite-agent\\builds\\buildkite-windows-cpu-autoscaling-group-i-0b3782d1791676daf-1\\xgboost\\xgboost-ci-windows\\src\\learner.cc:742: \n",
      "Parameters: { \"verbose\" } are not used.\n",
      "\n",
      "  warnings.warn(smsg, UserWarning)\n",
      "[I 2024-11-25 17:32:27,173] Trial 17 finished with value: 0.8928033357705235 and parameters: {'gamma': 0.045489850005002164, 'max_depth': 3, 'subsample': 0.41923965722255957, 'colsample_bytree': 0.6508640260508862, 'lambda': 1.0256925044520062, 'alpha': 0.833355922128047}. Best is trial 2 with value: 0.8935956963698062.\n"
     ]
    },
    {
     "name": "stdout",
     "output_type": "stream",
     "text": [
      "time:5179\n"
     ]
    },
    {
     "name": "stderr",
     "output_type": "stream",
     "text": [
      "c:\\Users\\User\\AppData\\Local\\Programs\\Python\\Python311\\Lib\\site-packages\\xgboost\\core.py:160: UserWarning: [17:36:35] WARNING: C:\\buildkite-agent\\builds\\buildkite-windows-cpu-autoscaling-group-i-0b3782d1791676daf-1\\xgboost\\xgboost-ci-windows\\src\\learner.cc:742: \n",
      "Parameters: { \"verbose\" } are not used.\n",
      "\n",
      "  warnings.warn(smsg, UserWarning)\n",
      "[I 2024-11-25 17:37:03,031] Trial 18 finished with value: 0.8883932137877503 and parameters: {'gamma': 0.008250277833892594, 'max_depth': 3, 'subsample': 0.4274941652556027, 'colsample_bytree': 0.6407695609810831, 'lambda': 1.0278207689343961, 'alpha': 0.9565368757232138}. Best is trial 2 with value: 0.8935956963698062.\n"
     ]
    },
    {
     "name": "stdout",
     "output_type": "stream",
     "text": [
      "time:5455\n"
     ]
    },
    {
     "name": "stderr",
     "output_type": "stream",
     "text": [
      "c:\\Users\\User\\AppData\\Local\\Programs\\Python\\Python311\\Lib\\site-packages\\xgboost\\core.py:160: UserWarning: [17:41:15] WARNING: C:\\buildkite-agent\\builds\\buildkite-windows-cpu-autoscaling-group-i-0b3782d1791676daf-1\\xgboost\\xgboost-ci-windows\\src\\learner.cc:742: \n",
      "Parameters: { \"verbose\" } are not used.\n",
      "\n",
      "  warnings.warn(smsg, UserWarning)\n",
      "[I 2024-11-25 17:41:44,276] Trial 19 finished with value: 0.891414651132983 and parameters: {'gamma': 0.027476217077300035, 'max_depth': 3, 'subsample': 0.45707438896844294, 'colsample_bytree': 0.881047217670224, 'lambda': 1.0529157132586293, 'alpha': 1.0304191806139755}. Best is trial 2 with value: 0.8935956963698062.\n"
     ]
    },
    {
     "name": "stdout",
     "output_type": "stream",
     "text": [
      "time:5736\n"
     ]
    },
    {
     "name": "stderr",
     "output_type": "stream",
     "text": [
      "c:\\Users\\User\\AppData\\Local\\Programs\\Python\\Python311\\Lib\\site-packages\\xgboost\\core.py:160: UserWarning: [17:46:10] WARNING: C:\\buildkite-agent\\builds\\buildkite-windows-cpu-autoscaling-group-i-0b3782d1791676daf-1\\xgboost\\xgboost-ci-windows\\src\\learner.cc:742: \n",
      "Parameters: { \"verbose\" } are not used.\n",
      "\n",
      "  warnings.warn(smsg, UserWarning)\n",
      "[I 2024-11-25 17:46:37,840] Trial 20 finished with value: 0.8896923849676994 and parameters: {'gamma': 0.04418771115524942, 'max_depth': 3, 'subsample': 0.5105355993327091, 'colsample_bytree': 0.6087551686223582, 'lambda': 0.8803288252821716, 'alpha': 0.8939338726624969}. Best is trial 2 with value: 0.8935956963698062.\n"
     ]
    },
    {
     "name": "stdout",
     "output_type": "stream",
     "text": [
      "time:6030\n"
     ]
    },
    {
     "name": "stderr",
     "output_type": "stream",
     "text": [
      "c:\\Users\\User\\AppData\\Local\\Programs\\Python\\Python311\\Lib\\site-packages\\xgboost\\core.py:160: UserWarning: [17:50:45] WARNING: C:\\buildkite-agent\\builds\\buildkite-windows-cpu-autoscaling-group-i-0b3782d1791676daf-1\\xgboost\\xgboost-ci-windows\\src\\learner.cc:742: \n",
      "Parameters: { \"verbose\" } are not used.\n",
      "\n",
      "  warnings.warn(smsg, UserWarning)\n",
      "[I 2024-11-25 17:51:12,274] Trial 21 finished with value: 0.8902526708245767 and parameters: {'gamma': 0.05971483236657881, 'max_depth': 3, 'subsample': 0.41517723217511465, 'colsample_bytree': 0.6681744963472656, 'lambda': 0.9744367402399429, 'alpha': 0.8357209736725456}. Best is trial 2 with value: 0.8935956963698062.\n"
     ]
    },
    {
     "name": "stdout",
     "output_type": "stream",
     "text": [
      "time:6304\n"
     ]
    },
    {
     "name": "stderr",
     "output_type": "stream",
     "text": [
      "c:\\Users\\User\\AppData\\Local\\Programs\\Python\\Python311\\Lib\\site-packages\\xgboost\\core.py:160: UserWarning: [17:55:30] WARNING: C:\\buildkite-agent\\builds\\buildkite-windows-cpu-autoscaling-group-i-0b3782d1791676daf-1\\xgboost\\xgboost-ci-windows\\src\\learner.cc:742: \n",
      "Parameters: { \"verbose\" } are not used.\n",
      "\n",
      "  warnings.warn(smsg, UserWarning)\n",
      "[I 2024-11-25 17:55:59,675] Trial 22 finished with value: 0.8880677460820635 and parameters: {'gamma': 0.046799194798629096, 'max_depth': 3, 'subsample': 0.40035591481836263, 'colsample_bytree': 0.7236556124200597, 'lambda': 0.9494424629723921, 'alpha': 0.8285727598332239}. Best is trial 2 with value: 0.8935956963698062.\n"
     ]
    },
    {
     "name": "stdout",
     "output_type": "stream",
     "text": [
      "time:6592\n"
     ]
    },
    {
     "name": "stderr",
     "output_type": "stream",
     "text": [
      "c:\\Users\\User\\AppData\\Local\\Programs\\Python\\Python311\\Lib\\site-packages\\xgboost\\core.py:160: UserWarning: [18:00:28] WARNING: C:\\buildkite-agent\\builds\\buildkite-windows-cpu-autoscaling-group-i-0b3782d1791676daf-1\\xgboost\\xgboost-ci-windows\\src\\learner.cc:742: \n",
      "Parameters: { \"verbose\" } are not used.\n",
      "\n",
      "  warnings.warn(smsg, UserWarning)\n",
      "[I 2024-11-25 18:00:57,321] Trial 23 finished with value: 0.8908729896816157 and parameters: {'gamma': 0.047607499602570796, 'max_depth': 3, 'subsample': 0.4357952388178742, 'colsample_bytree': 0.7813982381966206, 'lambda': 0.9211302986466746, 'alpha': 0.8701774781057223}. Best is trial 2 with value: 0.8935956963698062.\n"
     ]
    },
    {
     "name": "stdout",
     "output_type": "stream",
     "text": [
      "time:6889\n"
     ]
    },
    {
     "name": "stderr",
     "output_type": "stream",
     "text": [
      "c:\\Users\\User\\AppData\\Local\\Programs\\Python\\Python311\\Lib\\site-packages\\xgboost\\core.py:160: UserWarning: [18:05:15] WARNING: C:\\buildkite-agent\\builds\\buildkite-windows-cpu-autoscaling-group-i-0b3782d1791676daf-1\\xgboost\\xgboost-ci-windows\\src\\learner.cc:742: \n",
      "Parameters: { \"verbose\" } are not used.\n",
      "\n",
      "  warnings.warn(smsg, UserWarning)\n",
      "[I 2024-11-25 18:05:42,885] Trial 24 finished with value: 0.8903617552471951 and parameters: {'gamma': 0.02864037546232906, 'max_depth': 3, 'subsample': 0.41722135298121604, 'colsample_bytree': 0.6543805379585622, 'lambda': 1.0186775357893412, 'alpha': 0.8001156403370072}. Best is trial 2 with value: 0.8935956963698062.\n"
     ]
    },
    {
     "name": "stdout",
     "output_type": "stream",
     "text": [
      "time:7175\n"
     ]
    },
    {
     "name": "stderr",
     "output_type": "stream",
     "text": [
      "c:\\Users\\User\\AppData\\Local\\Programs\\Python\\Python311\\Lib\\site-packages\\xgboost\\core.py:160: UserWarning: [18:10:07] WARNING: C:\\buildkite-agent\\builds\\buildkite-windows-cpu-autoscaling-group-i-0b3782d1791676daf-1\\xgboost\\xgboost-ci-windows\\src\\learner.cc:742: \n",
      "Parameters: { \"verbose\" } are not used.\n",
      "\n",
      "  warnings.warn(smsg, UserWarning)\n",
      "[I 2024-11-25 18:10:37,061] Trial 25 finished with value: 0.8911287919514832 and parameters: {'gamma': 0.06993700366943476, 'max_depth': 3, 'subsample': 0.43589533051920293, 'colsample_bytree': 0.711358947937192, 'lambda': 1.0018367924421696, 'alpha': 0.9375353293889743}. Best is trial 2 with value: 0.8935956963698062.\n"
     ]
    },
    {
     "name": "stdout",
     "output_type": "stream",
     "text": [
      "time:7469\n"
     ]
    },
    {
     "name": "stderr",
     "output_type": "stream",
     "text": [
      "c:\\Users\\User\\AppData\\Local\\Programs\\Python\\Python311\\Lib\\site-packages\\xgboost\\core.py:160: UserWarning: [18:15:06] WARNING: C:\\buildkite-agent\\builds\\buildkite-windows-cpu-autoscaling-group-i-0b3782d1791676daf-1\\xgboost\\xgboost-ci-windows\\src\\learner.cc:742: \n",
      "Parameters: { \"verbose\" } are not used.\n",
      "\n",
      "  warnings.warn(smsg, UserWarning)\n",
      "[I 2024-11-25 18:15:32,891] Trial 26 finished with value: 0.8870044727433235 and parameters: {'gamma': 0.0574855659189064, 'max_depth': 3, 'subsample': 0.5625482344344384, 'colsample_bytree': 0.7547511241679895, 'lambda': 1.073581200867327, 'alpha': 0.837610447690007}. Best is trial 2 with value: 0.8935956963698062.\n"
     ]
    },
    {
     "name": "stdout",
     "output_type": "stream",
     "text": [
      "time:7765\n"
     ]
    },
    {
     "name": "stderr",
     "output_type": "stream",
     "text": [
      "c:\\Users\\User\\AppData\\Local\\Programs\\Python\\Python311\\Lib\\site-packages\\xgboost\\core.py:160: UserWarning: [18:19:40] WARNING: C:\\buildkite-agent\\builds\\buildkite-windows-cpu-autoscaling-group-i-0b3782d1791676daf-1\\xgboost\\xgboost-ci-windows\\src\\learner.cc:742: \n",
      "Parameters: { \"verbose\" } are not used.\n",
      "\n",
      "  warnings.warn(smsg, UserWarning)\n",
      "[I 2024-11-25 18:20:05,817] Trial 27 finished with value: 0.8924886203186395 and parameters: {'gamma': 0.043200191529945725, 'max_depth': 3, 'subsample': 0.41331370148720736, 'colsample_bytree': 0.6684916384278765, 'lambda': 0.8792420847512357, 'alpha': 0.8911343753854778}. Best is trial 2 with value: 0.8935956963698062.\n"
     ]
    },
    {
     "name": "stdout",
     "output_type": "stream",
     "text": [
      "time:8038\n"
     ]
    },
    {
     "name": "stderr",
     "output_type": "stream",
     "text": [
      "c:\\Users\\User\\AppData\\Local\\Programs\\Python\\Python311\\Lib\\site-packages\\xgboost\\core.py:160: UserWarning: [18:24:08] WARNING: C:\\buildkite-agent\\builds\\buildkite-windows-cpu-autoscaling-group-i-0b3782d1791676daf-1\\xgboost\\xgboost-ci-windows\\src\\learner.cc:742: \n",
      "Parameters: { \"verbose\" } are not used.\n",
      "\n",
      "  warnings.warn(smsg, UserWarning)\n",
      "[I 2024-11-25 18:24:33,234] Trial 28 finished with value: 0.8913930347354004 and parameters: {'gamma': 0.040444352834972296, 'max_depth': 3, 'subsample': 0.4638765297759703, 'colsample_bytree': 0.6652900005484431, 'lambda': 0.8035487690346431, 'alpha': 0.8866273746534374}. Best is trial 2 with value: 0.8935956963698062.\n"
     ]
    },
    {
     "name": "stdout",
     "output_type": "stream",
     "text": [
      "time:8305\n"
     ]
    },
    {
     "name": "stderr",
     "output_type": "stream",
     "text": [
      "c:\\Users\\User\\AppData\\Local\\Programs\\Python\\Python311\\Lib\\site-packages\\xgboost\\core.py:160: UserWarning: [18:28:47] WARNING: C:\\buildkite-agent\\builds\\buildkite-windows-cpu-autoscaling-group-i-0b3782d1791676daf-1\\xgboost\\xgboost-ci-windows\\src\\learner.cc:742: \n",
      "Parameters: { \"verbose\" } are not used.\n",
      "\n",
      "  warnings.warn(smsg, UserWarning)\n",
      "[I 2024-11-25 18:29:15,752] Trial 29 finished with value: 0.8862772141912449 and parameters: {'gamma': 0.02924037402120406, 'max_depth': 3, 'subsample': 0.4725265341267726, 'colsample_bytree': 0.7712731133596313, 'lambda': 0.8640542188483418, 'alpha': 0.9355914429199966}. Best is trial 2 with value: 0.8935956963698062.\n"
     ]
    },
    {
     "name": "stdout",
     "output_type": "stream",
     "text": [
      "time:8588\n"
     ]
    },
    {
     "name": "stderr",
     "output_type": "stream",
     "text": [
      "c:\\Users\\User\\AppData\\Local\\Programs\\Python\\Python311\\Lib\\site-packages\\xgboost\\core.py:160: UserWarning: [18:33:41] WARNING: C:\\buildkite-agent\\builds\\buildkite-windows-cpu-autoscaling-group-i-0b3782d1791676daf-1\\xgboost\\xgboost-ci-windows\\src\\learner.cc:742: \n",
      "Parameters: { \"verbose\" } are not used.\n",
      "\n",
      "  warnings.warn(smsg, UserWarning)\n",
      "[I 2024-11-25 18:34:13,594] Trial 30 finished with value: 0.8917685757947525 and parameters: {'gamma': 0.00305678476282447, 'max_depth': 3, 'subsample': 0.49517114833238696, 'colsample_bytree': 0.6360247809772948, 'lambda': 0.8991234827423548, 'alpha': 0.9610717697976008}. Best is trial 2 with value: 0.8935956963698062.\n"
     ]
    },
    {
     "name": "stdout",
     "output_type": "stream",
     "text": [
      "time:8886\n"
     ]
    },
    {
     "name": "stderr",
     "output_type": "stream",
     "text": [
      "c:\\Users\\User\\AppData\\Local\\Programs\\Python\\Python311\\Lib\\site-packages\\xgboost\\core.py:160: UserWarning: [18:38:35] WARNING: C:\\buildkite-agent\\builds\\buildkite-windows-cpu-autoscaling-group-i-0b3782d1791676daf-1\\xgboost\\xgboost-ci-windows\\src\\learner.cc:742: \n",
      "Parameters: { \"verbose\" } are not used.\n",
      "\n",
      "  warnings.warn(smsg, UserWarning)\n",
      "[I 2024-11-25 18:39:02,606] Trial 31 finished with value: 0.8922308631778515 and parameters: {'gamma': 0.051034357312537706, 'max_depth': 3, 'subsample': 0.40957481401423923, 'colsample_bytree': 0.6845122971235406, 'lambda': 0.9421299462554187, 'alpha': 0.8264110799095685}. Best is trial 2 with value: 0.8935956963698062.\n"
     ]
    },
    {
     "name": "stdout",
     "output_type": "stream",
     "text": [
      "time:9175\n"
     ]
    },
    {
     "name": "stderr",
     "output_type": "stream",
     "text": [
      "c:\\Users\\User\\AppData\\Local\\Programs\\Python\\Python311\\Lib\\site-packages\\xgboost\\core.py:160: UserWarning: [18:43:20] WARNING: C:\\buildkite-agent\\builds\\buildkite-windows-cpu-autoscaling-group-i-0b3782d1791676daf-1\\xgboost\\xgboost-ci-windows\\src\\learner.cc:742: \n",
      "Parameters: { \"verbose\" } are not used.\n",
      "\n",
      "  warnings.warn(smsg, UserWarning)\n",
      "[I 2024-11-25 18:43:44,887] Trial 32 finished with value: 0.8884869044550215 and parameters: {'gamma': 0.061036540730364026, 'max_depth': 3, 'subsample': 0.43095677549260086, 'colsample_bytree': 0.7204023557669583, 'lambda': 0.8413204635627014, 'alpha': 0.8675107632882035}. Best is trial 2 with value: 0.8935956963698062.\n"
     ]
    },
    {
     "name": "stdout",
     "output_type": "stream",
     "text": [
      "time:9457\n"
     ]
    },
    {
     "name": "stderr",
     "output_type": "stream",
     "text": [
      "c:\\Users\\User\\AppData\\Local\\Programs\\Python\\Python311\\Lib\\site-packages\\xgboost\\core.py:160: UserWarning: [18:47:46] WARNING: C:\\buildkite-agent\\builds\\buildkite-windows-cpu-autoscaling-group-i-0b3782d1791676daf-1\\xgboost\\xgboost-ci-windows\\src\\learner.cc:742: \n",
      "Parameters: { \"verbose\" } are not used.\n",
      "\n",
      "  warnings.warn(smsg, UserWarning)\n",
      "[I 2024-11-25 18:48:11,721] Trial 33 finished with value: 0.8907109188182265 and parameters: {'gamma': 0.07223395825092305, 'max_depth': 3, 'subsample': 0.41331156217207476, 'colsample_bytree': 0.6243845221388199, 'lambda': 0.99281827518381, 'alpha': 0.9163125351948176}. Best is trial 2 with value: 0.8935956963698062.\n"
     ]
    },
    {
     "name": "stdout",
     "output_type": "stream",
     "text": [
      "time:9724\n"
     ]
    },
    {
     "name": "stderr",
     "output_type": "stream",
     "text": [
      "c:\\Users\\User\\AppData\\Local\\Programs\\Python\\Python311\\Lib\\site-packages\\xgboost\\core.py:160: UserWarning: [18:52:12] WARNING: C:\\buildkite-agent\\builds\\buildkite-windows-cpu-autoscaling-group-i-0b3782d1791676daf-1\\xgboost\\xgboost-ci-windows\\src\\learner.cc:742: \n",
      "Parameters: { \"verbose\" } are not used.\n",
      "\n",
      "  warnings.warn(smsg, UserWarning)\n",
      "[I 2024-11-25 18:52:41,900] Trial 34 finished with value: 0.8839981703596455 and parameters: {'gamma': 0.043669829081835254, 'max_depth': 4, 'subsample': 0.4499819161323232, 'colsample_bytree': 0.671272535306348, 'lambda': 0.8571172102125768, 'alpha': 0.8521073535086704}. Best is trial 2 with value: 0.8935956963698062.\n"
     ]
    },
    {
     "name": "stdout",
     "output_type": "stream",
     "text": [
      "time:9994\n"
     ]
    },
    {
     "name": "stderr",
     "output_type": "stream",
     "text": [
      "c:\\Users\\User\\AppData\\Local\\Programs\\Python\\Python311\\Lib\\site-packages\\xgboost\\core.py:160: UserWarning: [18:57:06] WARNING: C:\\buildkite-agent\\builds\\buildkite-windows-cpu-autoscaling-group-i-0b3782d1791676daf-1\\xgboost\\xgboost-ci-windows\\src\\learner.cc:742: \n",
      "Parameters: { \"verbose\" } are not used.\n",
      "\n",
      "  warnings.warn(smsg, UserWarning)\n",
      "[I 2024-11-25 18:57:32,474] Trial 35 finished with value: 0.8889885040364006 and parameters: {'gamma': 0.07745884753638223, 'max_depth': 3, 'subsample': 0.4402786318758176, 'colsample_bytree': 0.654076833855679, 'lambda': 0.8958218989100016, 'alpha': 0.8870346499059617}. Best is trial 2 with value: 0.8935956963698062.\n"
     ]
    },
    {
     "name": "stdout",
     "output_type": "stream",
     "text": [
      "time:10285\n"
     ]
    },
    {
     "name": "stderr",
     "output_type": "stream",
     "text": [
      "c:\\Users\\User\\AppData\\Local\\Programs\\Python\\Python311\\Lib\\site-packages\\xgboost\\core.py:160: UserWarning: [19:01:38] WARNING: C:\\buildkite-agent\\builds\\buildkite-windows-cpu-autoscaling-group-i-0b3782d1791676daf-1\\xgboost\\xgboost-ci-windows\\src\\learner.cc:742: \n",
      "Parameters: { \"verbose\" } are not used.\n",
      "\n",
      "  warnings.warn(smsg, UserWarning)\n",
      "[I 2024-11-25 19:02:05,871] Trial 36 finished with value: 0.8900058538245296 and parameters: {'gamma': 0.05074458551612035, 'max_depth': 3, 'subsample': 0.4101023274499877, 'colsample_bytree': 0.7467713658945296, 'lambda': 1.003033959722492, 'alpha': 1.0067971280503982}. Best is trial 2 with value: 0.8935956963698062.\n"
     ]
    },
    {
     "name": "stdout",
     "output_type": "stream",
     "text": [
      "time:10558\n"
     ]
    },
    {
     "name": "stderr",
     "output_type": "stream",
     "text": [
      "c:\\Users\\User\\AppData\\Local\\Programs\\Python\\Python311\\Lib\\site-packages\\xgboost\\core.py:160: UserWarning: [19:06:11] WARNING: C:\\buildkite-agent\\builds\\buildkite-windows-cpu-autoscaling-group-i-0b3782d1791676daf-1\\xgboost\\xgboost-ci-windows\\src\\learner.cc:742: \n",
      "Parameters: { \"verbose\" } are not used.\n",
      "\n",
      "  warnings.warn(smsg, UserWarning)\n",
      "[I 2024-11-25 19:06:37,271] Trial 37 finished with value: 0.8884400951330773 and parameters: {'gamma': 0.019046454899208854, 'max_depth': 4, 'subsample': 0.42451997616811055, 'colsample_bytree': 0.8247956884586731, 'lambda': 1.071084464048554, 'alpha': 0.821734409676334}. Best is trial 2 with value: 0.8935956963698062.\n"
     ]
    },
    {
     "name": "stdout",
     "output_type": "stream",
     "text": [
      "time:10829\n"
     ]
    },
    {
     "name": "stderr",
     "output_type": "stream",
     "text": [
      "c:\\Users\\User\\AppData\\Local\\Programs\\Python\\Python311\\Lib\\site-packages\\xgboost\\core.py:160: UserWarning: [19:10:43] WARNING: C:\\buildkite-agent\\builds\\buildkite-windows-cpu-autoscaling-group-i-0b3782d1791676daf-1\\xgboost\\xgboost-ci-windows\\src\\learner.cc:742: \n",
      "Parameters: { \"verbose\" } are not used.\n",
      "\n",
      "  warnings.warn(smsg, UserWarning)\n",
      "[I 2024-11-25 19:11:09,198] Trial 38 finished with value: 0.8919621296727842 and parameters: {'gamma': 0.03207641854742212, 'max_depth': 3, 'subsample': 0.4426367845000071, 'colsample_bytree': 0.6026187520793946, 'lambda': 0.9631003183860665, 'alpha': 0.9198457159362516}. Best is trial 2 with value: 0.8935956963698062.\n"
     ]
    },
    {
     "name": "stdout",
     "output_type": "stream",
     "text": [
      "time:11101\n"
     ]
    },
    {
     "name": "stderr",
     "output_type": "stream",
     "text": [
      "c:\\Users\\User\\AppData\\Local\\Programs\\Python\\Python311\\Lib\\site-packages\\xgboost\\core.py:160: UserWarning: [19:15:25] WARNING: C:\\buildkite-agent\\builds\\buildkite-windows-cpu-autoscaling-group-i-0b3782d1791676daf-1\\xgboost\\xgboost-ci-windows\\src\\learner.cc:742: \n",
      "Parameters: { \"verbose\" } are not used.\n",
      "\n",
      "  warnings.warn(smsg, UserWarning)\n",
      "[I 2024-11-25 19:15:56,743] Trial 39 finished with value: 0.8839645190000195 and parameters: {'gamma': 0.04262174859656328, 'max_depth': 4, 'subsample': 0.5806745664437769, 'colsample_bytree': 0.7043834229718762, 'lambda': 0.9362097988107502, 'alpha': 0.8782099602769482}. Best is trial 2 with value: 0.8935956963698062.\n"
     ]
    },
    {
     "name": "stdout",
     "output_type": "stream",
     "text": [
      "time:11389\n"
     ]
    },
    {
     "name": "stderr",
     "output_type": "stream",
     "text": [
      "c:\\Users\\User\\AppData\\Local\\Programs\\Python\\Python311\\Lib\\site-packages\\xgboost\\core.py:160: UserWarning: [19:20:08] WARNING: C:\\buildkite-agent\\builds\\buildkite-windows-cpu-autoscaling-group-i-0b3782d1791676daf-1\\xgboost\\xgboost-ci-windows\\src\\learner.cc:742: \n",
      "Parameters: { \"verbose\" } are not used.\n",
      "\n",
      "  warnings.warn(smsg, UserWarning)\n",
      "[I 2024-11-25 19:20:35,182] Trial 40 finished with value: 0.8892792847473551 and parameters: {'gamma': 0.023354997045986647, 'max_depth': 3, 'subsample': 0.4845202013082136, 'colsample_bytree': 0.6293539488539364, 'lambda': 0.8967519694984354, 'alpha': 0.9722328313992379}. Best is trial 2 with value: 0.8935956963698062.\n"
     ]
    },
    {
     "name": "stdout",
     "output_type": "stream",
     "text": [
      "time:11667\n"
     ]
    },
    {
     "name": "stderr",
     "output_type": "stream",
     "text": [
      "c:\\Users\\User\\AppData\\Local\\Programs\\Python\\Python311\\Lib\\site-packages\\xgboost\\core.py:160: UserWarning: [19:24:47] WARNING: C:\\buildkite-agent\\builds\\buildkite-windows-cpu-autoscaling-group-i-0b3782d1791676daf-1\\xgboost\\xgboost-ci-windows\\src\\learner.cc:742: \n",
      "Parameters: { \"verbose\" } are not used.\n",
      "\n",
      "  warnings.warn(smsg, UserWarning)\n",
      "[I 2024-11-25 19:25:16,022] Trial 41 finished with value: 0.8896890259091856 and parameters: {'gamma': 0.05360249243800933, 'max_depth': 3, 'subsample': 0.409820573506272, 'colsample_bytree': 0.6832525182156554, 'lambda': 0.9433127314971955, 'alpha': 0.8237433559915595}. Best is trial 2 with value: 0.8935956963698062.\n"
     ]
    },
    {
     "name": "stdout",
     "output_type": "stream",
     "text": [
      "time:11948\n"
     ]
    },
    {
     "name": "stderr",
     "output_type": "stream",
     "text": [
      "c:\\Users\\User\\AppData\\Local\\Programs\\Python\\Python311\\Lib\\site-packages\\xgboost\\core.py:160: UserWarning: [19:29:24] WARNING: C:\\buildkite-agent\\builds\\buildkite-windows-cpu-autoscaling-group-i-0b3782d1791676daf-1\\xgboost\\xgboost-ci-windows\\src\\learner.cc:742: \n",
      "Parameters: { \"verbose\" } are not used.\n",
      "\n",
      "  warnings.warn(smsg, UserWarning)\n",
      "[I 2024-11-25 19:29:50,375] Trial 42 finished with value: 0.8917638808355989 and parameters: {'gamma': 0.04957803668203426, 'max_depth': 3, 'subsample': 0.40822690224175323, 'colsample_bytree': 0.688918024810604, 'lambda': 0.9737103757610274, 'alpha': 0.8483777570625753}. Best is trial 2 with value: 0.8935956963698062.\n"
     ]
    },
    {
     "name": "stdout",
     "output_type": "stream",
     "text": [
      "time:12222\n"
     ]
    },
    {
     "name": "stderr",
     "output_type": "stream",
     "text": [
      "c:\\Users\\User\\AppData\\Local\\Programs\\Python\\Python311\\Lib\\site-packages\\xgboost\\core.py:160: UserWarning: [19:34:03] WARNING: C:\\buildkite-agent\\builds\\buildkite-windows-cpu-autoscaling-group-i-0b3782d1791676daf-1\\xgboost\\xgboost-ci-windows\\src\\learner.cc:742: \n",
      "Parameters: { \"verbose\" } are not used.\n",
      "\n",
      "  warnings.warn(smsg, UserWarning)\n",
      "[I 2024-11-25 19:34:29,155] Trial 43 finished with value: 0.8890569778338729 and parameters: {'gamma': 0.06428228204539986, 'max_depth': 3, 'subsample': 0.41968000790027293, 'colsample_bytree': 0.7354939349012053, 'lambda': 0.9377145579117486, 'alpha': 0.8129781795336583}. Best is trial 2 with value: 0.8935956963698062.\n"
     ]
    },
    {
     "name": "stdout",
     "output_type": "stream",
     "text": [
      "time:12501\n"
     ]
    },
    {
     "name": "stderr",
     "output_type": "stream",
     "text": [
      "c:\\Users\\User\\AppData\\Local\\Programs\\Python\\Python311\\Lib\\site-packages\\xgboost\\core.py:160: UserWarning: [19:38:45] WARNING: C:\\buildkite-agent\\builds\\buildkite-windows-cpu-autoscaling-group-i-0b3782d1791676daf-1\\xgboost\\xgboost-ci-windows\\src\\learner.cc:742: \n",
      "Parameters: { \"verbose\" } are not used.\n",
      "\n",
      "  warnings.warn(smsg, UserWarning)\n",
      "[I 2024-11-25 19:39:09,924] Trial 44 finished with value: 0.8902173170197282 and parameters: {'gamma': 0.0339963614319902, 'max_depth': 3, 'subsample': 0.4314294989169092, 'colsample_bytree': 0.6436447307965819, 'lambda': 0.84483458492262, 'alpha': 0.8418023722244468}. Best is trial 2 with value: 0.8935956963698062.\n"
     ]
    },
    {
     "name": "stdout",
     "output_type": "stream",
     "text": [
      "time:12782\n"
     ]
    },
    {
     "name": "stderr",
     "output_type": "stream",
     "text": [
      "c:\\Users\\User\\AppData\\Local\\Programs\\Python\\Python311\\Lib\\site-packages\\xgboost\\core.py:160: UserWarning: [19:43:07] WARNING: C:\\buildkite-agent\\builds\\buildkite-windows-cpu-autoscaling-group-i-0b3782d1791676daf-1\\xgboost\\xgboost-ci-windows\\src\\learner.cc:742: \n",
      "Parameters: { \"verbose\" } are not used.\n",
      "\n",
      "  warnings.warn(smsg, UserWarning)\n",
      "[I 2024-11-25 19:43:32,424] Trial 45 finished with value: 0.8905915698630429 and parameters: {'gamma': 0.052778752108015616, 'max_depth': 3, 'subsample': 0.4056394747962099, 'colsample_bytree': 0.7068369792505909, 'lambda': 0.9935074325877891, 'alpha': 0.8146557330389936}. Best is trial 2 with value: 0.8935956963698062.\n"
     ]
    },
    {
     "name": "stdout",
     "output_type": "stream",
     "text": [
      "time:13044\n"
     ]
    },
    {
     "name": "stderr",
     "output_type": "stream",
     "text": [
      "c:\\Users\\User\\AppData\\Local\\Programs\\Python\\Python311\\Lib\\site-packages\\xgboost\\core.py:160: UserWarning: [19:47:39] WARNING: C:\\buildkite-agent\\builds\\buildkite-windows-cpu-autoscaling-group-i-0b3782d1791676daf-1\\xgboost\\xgboost-ci-windows\\src\\learner.cc:742: \n",
      "Parameters: { \"verbose\" } are not used.\n",
      "\n",
      "  warnings.warn(smsg, UserWarning)\n",
      "[I 2024-11-25 19:48:05,206] Trial 46 finished with value: 0.8910928023080699 and parameters: {'gamma': 0.03866627711153659, 'max_depth': 3, 'subsample': 0.4203604190553616, 'colsample_bytree': 0.6774135002993975, 'lambda': 0.9579592654568053, 'alpha': 0.898766447612539}. Best is trial 2 with value: 0.8935956963698062.\n"
     ]
    },
    {
     "name": "stdout",
     "output_type": "stream",
     "text": [
      "time:13317\n"
     ]
    },
    {
     "name": "stderr",
     "output_type": "stream",
     "text": [
      "c:\\Users\\User\\AppData\\Local\\Programs\\Python\\Python311\\Lib\\site-packages\\xgboost\\core.py:160: UserWarning: [19:52:10] WARNING: C:\\buildkite-agent\\builds\\buildkite-windows-cpu-autoscaling-group-i-0b3782d1791676daf-1\\xgboost\\xgboost-ci-windows\\src\\learner.cc:742: \n",
      "Parameters: { \"verbose\" } are not used.\n",
      "\n",
      "  warnings.warn(smsg, UserWarning)\n",
      "[I 2024-11-25 19:52:35,450] Trial 47 finished with value: 0.8897236451159897 and parameters: {'gamma': 0.057953337053414364, 'max_depth': 3, 'subsample': 0.5384137704848473, 'colsample_bytree': 0.7591689235786043, 'lambda': 0.9125236376216808, 'alpha': 0.8577950340185779}. Best is trial 2 with value: 0.8935956963698062.\n"
     ]
    },
    {
     "name": "stdout",
     "output_type": "stream",
     "text": [
      "time:13588\n"
     ]
    },
    {
     "name": "stderr",
     "output_type": "stream",
     "text": [
      "c:\\Users\\User\\AppData\\Local\\Programs\\Python\\Python311\\Lib\\site-packages\\xgboost\\core.py:160: UserWarning: [19:56:49] WARNING: C:\\buildkite-agent\\builds\\buildkite-windows-cpu-autoscaling-group-i-0b3782d1791676daf-1\\xgboost\\xgboost-ci-windows\\src\\learner.cc:742: \n",
      "Parameters: { \"verbose\" } are not used.\n",
      "\n",
      "  warnings.warn(smsg, UserWarning)\n",
      "[I 2024-11-25 19:57:15,129] Trial 48 finished with value: 0.8858792108523451 and parameters: {'gamma': 0.047747525854816675, 'max_depth': 3, 'subsample': 0.40057850672414885, 'colsample_bytree': 0.8893331495547188, 'lambda': 1.0086463759089521, 'alpha': 0.8772117953431369}. Best is trial 2 with value: 0.8935956963698062.\n"
     ]
    },
    {
     "name": "stdout",
     "output_type": "stream",
     "text": [
      "time:13867\n"
     ]
    },
    {
     "name": "stderr",
     "output_type": "stream",
     "text": [
      "c:\\Users\\User\\AppData\\Local\\Programs\\Python\\Python311\\Lib\\site-packages\\xgboost\\core.py:160: UserWarning: [20:01:33] WARNING: C:\\buildkite-agent\\builds\\buildkite-windows-cpu-autoscaling-group-i-0b3782d1791676daf-1\\xgboost\\xgboost-ci-windows\\src\\learner.cc:742: \n",
      "Parameters: { \"verbose\" } are not used.\n",
      "\n",
      "  warnings.warn(smsg, UserWarning)\n",
      "[I 2024-11-25 20:02:01,079] Trial 49 finished with value: 0.8824619835829111 and parameters: {'gamma': 0.08397478809546507, 'max_depth': 4, 'subsample': 0.45380642565779505, 'colsample_bytree': 0.6533208035238253, 'lambda': 0.8807013227732342, 'alpha': 1.1342702853357063}. Best is trial 2 with value: 0.8935956963698062.\n"
     ]
    },
    {
     "name": "stdout",
     "output_type": "stream",
     "text": [
      "time:14153\n",
      "Best parameters: {'gamma': 0.049541708381048245, 'max_depth': 3, 'subsample': 0.4124214980744642, 'colsample_bytree': 0.7282303118311557, 'lambda': 0.9619513230536485, 'alpha': 0.8791045324846161}\n",
      "Best score: 0.8935956963698062\n"
     ]
    }
   ],
   "source": [
    "# import optuna\n",
    "\n",
    "# now = time.time()\n",
    "# def objective(trial):\n",
    "#     params = {\n",
    "#         'gamma': trial.suggest_float(\"gamma\", 0.0, 0.1),\n",
    "#         'max_depth': trial.suggest_int(\"max_depth\", 3, 4),\n",
    "#         'subsample': trial.suggest_float(\"subsample\", 0.4, 0.6),\n",
    "#         'colsample_bytree': trial.suggest_float(\"colsample_bytree\", 0.6, 1.0),\n",
    "#         'lambda': trial.suggest_float(\"lambda\", 0.8, 1.2),\n",
    "#         'alpha': trial.suggest_float(\"alpha\", 0.8, 1.2),\n",
    "#     }\n",
    "    \n",
    "#     lmart_model = xgb.sklearn.XGBRanker(\n",
    "#         objective='rank:ndcg',\n",
    "#         random_state=42,\n",
    "#         n_jobs=-1,\n",
    "#         verbose=1,\n",
    "#         **params\n",
    "#     )\n",
    "#     lmart_pipe = pipeline >> pt.ltr.apply_learned_model(lmart_model, form=\"ltr\")\n",
    "#     lmart_pipe.fit(train_topics, train_qrels, dev_topics, dev_qrels)\n",
    "    \n",
    "#     eval_results = pt.Experiment([lmart_pipe % K], dev_topics, dev_qrels, eval_metrics=[\"ndcg\"], names=[\"L2R\"])\n",
    "#     score = eval_results[\"ndcg\"][0]\n",
    "    \n",
    "#     print(f\"time:{int(time.time()-now)}\")\n",
    "#     return score\n",
    "\n",
    "# # Create an Optuna study\n",
    "# study = optuna.create_study(direction=\"maximize\")\n",
    "# study.optimize(objective, n_trials=50)\n",
    "\n",
    "# # Get the best parameters and score\n",
    "# best_params = study.best_params\n",
    "# best_score = study.best_value\n",
    "# print(f\"Best parameters: {best_params}\")\n",
    "# print(f\"Best score: {best_score}\")"
   ]
  },
  {
   "cell_type": "markdown",
   "metadata": {
    "id": "Px1ryTPIGJV7"
   },
   "source": [
    "# Evaluation\n"
   ]
  },
  {
   "cell_type": "markdown",
   "metadata": {
    "id": "gWJegV5iMrKo"
   },
   "source": [
    "## ✋ TODO"
   ]
  },
  {
   "cell_type": "code",
   "execution_count": 43,
   "metadata": {
    "id": "8IYX6oZTLxON"
   },
   "outputs": [
    {
     "name": "stderr",
     "output_type": "stream",
     "text": [
      "pt.Experiment: 100%|██████████| 2/2 [00:28<00:00, 14.09s/system]\n"
     ]
    }
   ],
   "source": [
    "final_eval_result_dir = os.path.join(os.getcwd(), \"result_final\")\n",
    "eval_results = pt.Experiment([bm25 % K, lmart_pipe % K],\n",
    "                            topics=test_queries,\n",
    "                            qrels=test_qrels,\n",
    "                            eval_metrics=[\"P_30\",\"map\",\"recip_rank\",\"ndcg\"],\n",
    "                            names=[\"BM25\", \"L2R\"],\n",
    "                            baseline=0,\n",
    "                            save_dir=final_eval_result_dir,\n",
    "                            save_mode=\"overwrite\",\n",
    "                            verbose=True,\n",
    "                            )"
   ]
  },
  {
   "cell_type": "code",
   "execution_count": 44,
   "metadata": {
    "id": "RLXLynTUA-3Z"
   },
   "outputs": [
    {
     "data": {
      "text/html": [
       "<div>\n",
       "<style scoped>\n",
       "    .dataframe tbody tr th:only-of-type {\n",
       "        vertical-align: middle;\n",
       "    }\n",
       "\n",
       "    .dataframe tbody tr th {\n",
       "        vertical-align: top;\n",
       "    }\n",
       "\n",
       "    .dataframe thead th {\n",
       "        text-align: right;\n",
       "    }\n",
       "</style>\n",
       "<table border=\"1\" class=\"dataframe\">\n",
       "  <thead>\n",
       "    <tr style=\"text-align: right;\">\n",
       "      <th></th>\n",
       "      <th>name</th>\n",
       "      <th>map</th>\n",
       "      <th>recip_rank</th>\n",
       "      <th>P_30</th>\n",
       "      <th>ndcg</th>\n",
       "      <th>map +</th>\n",
       "      <th>map -</th>\n",
       "      <th>map p-value</th>\n",
       "      <th>recip_rank +</th>\n",
       "      <th>recip_rank -</th>\n",
       "      <th>recip_rank p-value</th>\n",
       "      <th>P_30 +</th>\n",
       "      <th>P_30 -</th>\n",
       "      <th>P_30 p-value</th>\n",
       "      <th>ndcg +</th>\n",
       "      <th>ndcg -</th>\n",
       "      <th>ndcg p-value</th>\n",
       "    </tr>\n",
       "  </thead>\n",
       "  <tbody>\n",
       "    <tr>\n",
       "      <th>0</th>\n",
       "      <td>BM25</td>\n",
       "      <td>0.542489</td>\n",
       "      <td>0.723107</td>\n",
       "      <td>0.270543</td>\n",
       "      <td>0.691632</td>\n",
       "      <td>NaN</td>\n",
       "      <td>NaN</td>\n",
       "      <td>NaN</td>\n",
       "      <td>NaN</td>\n",
       "      <td>NaN</td>\n",
       "      <td>NaN</td>\n",
       "      <td>NaN</td>\n",
       "      <td>NaN</td>\n",
       "      <td>NaN</td>\n",
       "      <td>NaN</td>\n",
       "      <td>NaN</td>\n",
       "      <td>NaN</td>\n",
       "    </tr>\n",
       "    <tr>\n",
       "      <th>1</th>\n",
       "      <td>L2R</td>\n",
       "      <td>0.559806</td>\n",
       "      <td>0.741711</td>\n",
       "      <td>0.279070</td>\n",
       "      <td>0.709557</td>\n",
       "      <td>23.0</td>\n",
       "      <td>15.0</td>\n",
       "      <td>0.613267</td>\n",
       "      <td>7.0</td>\n",
       "      <td>5.0</td>\n",
       "      <td>0.648245</td>\n",
       "      <td>5.0</td>\n",
       "      <td>1.0</td>\n",
       "      <td>0.124827</td>\n",
       "      <td>24.0</td>\n",
       "      <td>14.0</td>\n",
       "      <td>0.505503</td>\n",
       "    </tr>\n",
       "  </tbody>\n",
       "</table>\n",
       "</div>"
      ],
      "text/plain": [
       "   name       map  recip_rank      P_30      ndcg  map +  map -  map p-value  \\\n",
       "0  BM25  0.542489    0.723107  0.270543  0.691632    NaN    NaN          NaN   \n",
       "1   L2R  0.559806    0.741711  0.279070  0.709557   23.0   15.0     0.613267   \n",
       "\n",
       "   recip_rank +  recip_rank -  recip_rank p-value  P_30 +  P_30 -  \\\n",
       "0           NaN           NaN                 NaN     NaN     NaN   \n",
       "1           7.0           5.0            0.648245     5.0     1.0   \n",
       "\n",
       "   P_30 p-value  ndcg +  ndcg -  ndcg p-value  \n",
       "0           NaN     NaN     NaN           NaN  \n",
       "1      0.124827    24.0    14.0      0.505503  "
      ]
     },
     "execution_count": 44,
     "metadata": {},
     "output_type": "execute_result"
    }
   ],
   "source": [
    "eval_results"
   ]
  },
  {
   "cell_type": "code",
   "execution_count": 48,
   "metadata": {},
   "outputs": [],
   "source": [
    "with open('lmart_model_tp4.pkl', 'rb') as file:\n",
    "    loaded_model = pickle.load(file)"
   ]
  },
  {
   "cell_type": "code",
   "execution_count": 49,
   "metadata": {},
   "outputs": [],
   "source": [
    "pipe_new = pipeline >> pt.ltr.apply_learned_model(loaded_model, form = \"ltr\")"
   ]
  },
  {
   "cell_type": "code",
   "execution_count": 50,
   "metadata": {},
   "outputs": [
    {
     "name": "stderr",
     "output_type": "stream",
     "text": [
      "pt.Experiment: 100%|██████████| 2/2 [00:30<00:00, 15.30s/system]\n"
     ]
    },
    {
     "data": {
      "text/html": [
       "<div>\n",
       "<style scoped>\n",
       "    .dataframe tbody tr th:only-of-type {\n",
       "        vertical-align: middle;\n",
       "    }\n",
       "\n",
       "    .dataframe tbody tr th {\n",
       "        vertical-align: top;\n",
       "    }\n",
       "\n",
       "    .dataframe thead th {\n",
       "        text-align: right;\n",
       "    }\n",
       "</style>\n",
       "<table border=\"1\" class=\"dataframe\">\n",
       "  <thead>\n",
       "    <tr style=\"text-align: right;\">\n",
       "      <th></th>\n",
       "      <th>name</th>\n",
       "      <th>map</th>\n",
       "      <th>recip_rank</th>\n",
       "      <th>P_30</th>\n",
       "      <th>ndcg</th>\n",
       "      <th>map +</th>\n",
       "      <th>map -</th>\n",
       "      <th>map p-value</th>\n",
       "      <th>recip_rank +</th>\n",
       "      <th>recip_rank -</th>\n",
       "      <th>recip_rank p-value</th>\n",
       "      <th>P_30 +</th>\n",
       "      <th>P_30 -</th>\n",
       "      <th>P_30 p-value</th>\n",
       "      <th>ndcg +</th>\n",
       "      <th>ndcg -</th>\n",
       "      <th>ndcg p-value</th>\n",
       "    </tr>\n",
       "  </thead>\n",
       "  <tbody>\n",
       "    <tr>\n",
       "      <th>0</th>\n",
       "      <td>BM25</td>\n",
       "      <td>0.542489</td>\n",
       "      <td>0.723107</td>\n",
       "      <td>0.270543</td>\n",
       "      <td>0.691632</td>\n",
       "      <td>NaN</td>\n",
       "      <td>NaN</td>\n",
       "      <td>NaN</td>\n",
       "      <td>NaN</td>\n",
       "      <td>NaN</td>\n",
       "      <td>NaN</td>\n",
       "      <td>NaN</td>\n",
       "      <td>NaN</td>\n",
       "      <td>NaN</td>\n",
       "      <td>NaN</td>\n",
       "      <td>NaN</td>\n",
       "      <td>NaN</td>\n",
       "    </tr>\n",
       "    <tr>\n",
       "      <th>1</th>\n",
       "      <td>L2R</td>\n",
       "      <td>0.559806</td>\n",
       "      <td>0.741711</td>\n",
       "      <td>0.279070</td>\n",
       "      <td>0.709557</td>\n",
       "      <td>23.0</td>\n",
       "      <td>15.0</td>\n",
       "      <td>0.613267</td>\n",
       "      <td>7.0</td>\n",
       "      <td>5.0</td>\n",
       "      <td>0.648245</td>\n",
       "      <td>5.0</td>\n",
       "      <td>1.0</td>\n",
       "      <td>0.124827</td>\n",
       "      <td>24.0</td>\n",
       "      <td>14.0</td>\n",
       "      <td>0.505503</td>\n",
       "    </tr>\n",
       "  </tbody>\n",
       "</table>\n",
       "</div>"
      ],
      "text/plain": [
       "   name       map  recip_rank      P_30      ndcg  map +  map -  map p-value  \\\n",
       "0  BM25  0.542489    0.723107  0.270543  0.691632    NaN    NaN          NaN   \n",
       "1   L2R  0.559806    0.741711  0.279070  0.709557   23.0   15.0     0.613267   \n",
       "\n",
       "   recip_rank +  recip_rank -  recip_rank p-value  P_30 +  P_30 -  \\\n",
       "0           NaN           NaN                 NaN     NaN     NaN   \n",
       "1           7.0           5.0            0.648245     5.0     1.0   \n",
       "\n",
       "   P_30 p-value  ndcg +  ndcg -  ndcg p-value  \n",
       "0           NaN     NaN     NaN           NaN  \n",
       "1      0.124827    24.0    14.0      0.505503  "
      ]
     },
     "execution_count": 50,
     "metadata": {},
     "output_type": "execute_result"
    }
   ],
   "source": [
    "final_eval_result_dir = os.path.join(os.getcwd(), \"result_final\")\n",
    "eval_results = pt.Experiment([bm25 % K, pipe_new % K],\n",
    "                            topics=test_queries,\n",
    "                            qrels=test_qrels,\n",
    "                            eval_metrics=[\"P_30\",\"map\",\"recip_rank\",\"ndcg\"],\n",
    "                            names=[\"BM25\", \"L2R\"],\n",
    "                            baseline=0,\n",
    "                            save_dir=final_eval_result_dir,\n",
    "                            save_mode=\"overwrite\",\n",
    "                            verbose=True,\n",
    "                            )\n",
    "eval_results"
   ]
  }
 ],
 "metadata": {
  "colab": {
   "provenance": []
  },
  "kernelspec": {
   "display_name": "Python 3",
   "name": "python3"
  },
  "language_info": {
   "codemirror_mode": {
    "name": "ipython",
    "version": 3
   },
   "file_extension": ".py",
   "mimetype": "text/x-python",
   "name": "python",
   "nbconvert_exporter": "python",
   "pygments_lexer": "ipython3",
   "version": "3.11.3"
  }
 },
 "nbformat": 4,
 "nbformat_minor": 0
}
